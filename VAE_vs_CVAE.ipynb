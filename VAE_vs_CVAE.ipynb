{
  "cells": [
    {
      "cell_type": "markdown",
      "source": [
        "<div style=\"display:block\" direction=rtl align=right><br><br>\n",
        "    <div  style=\"width:100%;margin:100;display:block\"  display=block align=center>\n",
        "        <img width=130 align=right src=\"https://i.ibb.co/yXKQmtZ/logo1.png\" style=\"margin:0;\" />\n",
        "        <img width=170 align=left  src=\"https://i.ibb.co/wLjqFkw/logo2.png\" style=\"margin:0;\" />\n",
        "        <span><br><font size=5>University of Tehran , school of ECE</font></span>\n",
        "        <span><br><font size=3>Deep Generative Models Course</font></span>\n",
        "        <span><br><font size=3>Fall 2022</font></span>\n",
        "\n",
        "</div>"
      ],
      "metadata": {
        "id": "BGLWDm-U-Ppt"
      }
    },
    {
      "cell_type": "code",
      "source": [
        "import argparse\n",
        "import numpy as np\n",
        "from tqdm import tqdm\n",
        "from pprint import pprint\n",
        "from torchvision import datasets, transforms\n",
        "import torch\n",
        "import torch.nn.functional as F\n",
        "from torch import autograd, nn, optim\n",
        "from torch.nn import functional as F\n",
        "\n",
        "import torch.distributions\n",
        "\n",
        "# Latent dimensions\n",
        "z = 10\n",
        "# Training iterations\n",
        "iter_max =50 #200\n",
        "# Batch size\n",
        "batch_size = 100\n",
        "# For the optimizer\n",
        "learning_rate = 1e-3\n",
        "\n",
        "device = torch.device('cuda' if torch.cuda.is_available() else 'cpu')\n"
      ],
      "metadata": {
        "id": "1_XMs5Gn-UE4"
      },
      "execution_count": null,
      "outputs": []
    },
    {
      "cell_type": "code",
      "execution_count": null,
      "metadata": {
        "colab": {
          "base_uri": "https://localhost:8080/",
          "height": 582,
          "referenced_widgets": [
            "53bb7301712d46bca9e7b3a3d8464b49",
            "1dd1c57b7f914efcb97608bd91f1d0b2",
            "a406eddf4a4d468a85e3e254348e6f5e",
            "e70d726f28b24e819e47afd869367364",
            "6b9025a897544969a53006edd8bc49f0",
            "09aa19666b734cd0a5f6eeb965fbafeb",
            "99e074d4d6f745478cbb0e9b5f187427",
            "fb04c2fc860147e4b0b193dc4f1db67c",
            "4960af8850b6403bb28aa32c3f6a4f42",
            "e9ef664c665b46b28eea9f08e09a6a46",
            "489b676aa6c04d9b9d73e420acea1248",
            "b4dc655b814149af9473cc8da693f69a",
            "b794ae981514494289257729224136a3",
            "a7724ce5cb2442b7ab8b7b35224d6fd5",
            "a8ee66d2126a48f390ff8d2738c4874d",
            "de2852552dc24c92b79fb03577eb7dd2",
            "8096bedc61c0437ea3548a8c03da4c72",
            "b1fc8ad19ff940788d7f861636b0ad10",
            "d30537383b564df2b523f2883be6de0e",
            "c4826cc9181747879b4b15231b2edff7",
            "8ea4c3f8bf284517873a20ba9273cbbe",
            "d7c890f200514287ae3c37719a9aa768",
            "56d50f6a9035461fb737cba37ed9d4e6",
            "80d21265199f45e28515cc78ec4e1edc",
            "89493e0966db445d8dd69a98f7682310",
            "91b02510dee54461aabdccd15f683f11",
            "edfca8f49fd34618967e2aa193d717c0",
            "929f6201b08d41d99f7b9ccc9447153e",
            "193cf83169e0497bbfef41988b78e8d4",
            "c3cff6a0427044ccbe2e1d15fba62a8c",
            "152ce8e589084c4997e476d73608ef2e",
            "fc739f36855143fcbdb6c27085b6b69b",
            "c8dc31db52fa4c2989de1d05a3e59e9e",
            "baa8f748831b48e6aa5c1cda52a4a476",
            "e856d59d698448febf7675d358361064",
            "c5c28a0218744b00bbec4ab83f0f726b",
            "ba51d1cc066a42f4a8d564bda5489a19",
            "89700ad0d3704bd087ca292252502c7b",
            "934886c1fcd14d918ac959cd85be64f6",
            "11abc884c1f841afb0243ffc2c3162db",
            "ff83cd1a9a464911bcbe80e522d7e868",
            "a54ed910f99c455195e6fbd22ce66b80",
            "6c9d3ff9614144ea9eb16cc479084935",
            "c77c095dc1f446b59d22ca8f90ddd7cd"
          ]
        },
        "id": "q60vezKa1f9Q",
        "outputId": "e0f3dcc6-7c0f-4330-a8c9-39162cf6b287"
      },
      "outputs": [
        {
          "name": "stdout",
          "output_type": "stream",
          "text": [
            "Downloading http://yann.lecun.com/exdb/mnist/train-images-idx3-ubyte.gz\n",
            "Downloading http://yann.lecun.com/exdb/mnist/train-images-idx3-ubyte.gz to data/MNIST/raw/train-images-idx3-ubyte.gz\n"
          ]
        },
        {
          "data": {
            "application/vnd.jupyter.widget-view+json": {
              "model_id": "53bb7301712d46bca9e7b3a3d8464b49",
              "version_major": 2,
              "version_minor": 0
            },
            "text/plain": [
              "  0%|          | 0/9912422 [00:00<?, ?it/s]"
            ]
          },
          "metadata": {},
          "output_type": "display_data"
        },
        {
          "name": "stdout",
          "output_type": "stream",
          "text": [
            "Extracting data/MNIST/raw/train-images-idx3-ubyte.gz to data/MNIST/raw\n",
            "\n",
            "Downloading http://yann.lecun.com/exdb/mnist/train-labels-idx1-ubyte.gz\n",
            "Downloading http://yann.lecun.com/exdb/mnist/train-labels-idx1-ubyte.gz to data/MNIST/raw/train-labels-idx1-ubyte.gz\n"
          ]
        },
        {
          "data": {
            "application/vnd.jupyter.widget-view+json": {
              "model_id": "b4dc655b814149af9473cc8da693f69a",
              "version_major": 2,
              "version_minor": 0
            },
            "text/plain": [
              "  0%|          | 0/28881 [00:00<?, ?it/s]"
            ]
          },
          "metadata": {},
          "output_type": "display_data"
        },
        {
          "name": "stdout",
          "output_type": "stream",
          "text": [
            "Extracting data/MNIST/raw/train-labels-idx1-ubyte.gz to data/MNIST/raw\n",
            "\n",
            "Downloading http://yann.lecun.com/exdb/mnist/t10k-images-idx3-ubyte.gz\n",
            "Downloading http://yann.lecun.com/exdb/mnist/t10k-images-idx3-ubyte.gz to data/MNIST/raw/t10k-images-idx3-ubyte.gz\n"
          ]
        },
        {
          "data": {
            "application/vnd.jupyter.widget-view+json": {
              "model_id": "56d50f6a9035461fb737cba37ed9d4e6",
              "version_major": 2,
              "version_minor": 0
            },
            "text/plain": [
              "  0%|          | 0/1648877 [00:00<?, ?it/s]"
            ]
          },
          "metadata": {},
          "output_type": "display_data"
        },
        {
          "name": "stdout",
          "output_type": "stream",
          "text": [
            "Extracting data/MNIST/raw/t10k-images-idx3-ubyte.gz to data/MNIST/raw\n",
            "\n",
            "Downloading http://yann.lecun.com/exdb/mnist/t10k-labels-idx1-ubyte.gz\n",
            "Downloading http://yann.lecun.com/exdb/mnist/t10k-labels-idx1-ubyte.gz to data/MNIST/raw/t10k-labels-idx1-ubyte.gz\n"
          ]
        },
        {
          "data": {
            "application/vnd.jupyter.widget-view+json": {
              "model_id": "baa8f748831b48e6aa5c1cda52a4a476",
              "version_major": 2,
              "version_minor": 0
            },
            "text/plain": [
              "  0%|          | 0/4542 [00:00<?, ?it/s]"
            ]
          },
          "metadata": {},
          "output_type": "display_data"
        },
        {
          "name": "stdout",
          "output_type": "stream",
          "text": [
            "Extracting data/MNIST/raw/t10k-labels-idx1-ubyte.gz to data/MNIST/raw\n",
            "\n"
          ]
        },
        {
          "name": "stderr",
          "output_type": "stream",
          "text": [
            "/usr/local/lib/python3.8/dist-packages/torchvision/datasets/mnist.py:75: UserWarning: train_data has been renamed data\n",
            "  warnings.warn(\"train_data has been renamed data\")\n",
            "/usr/local/lib/python3.8/dist-packages/torchvision/datasets/mnist.py:65: UserWarning: train_labels has been renamed targets\n",
            "  warnings.warn(\"train_labels has been renamed targets\")\n",
            "/usr/local/lib/python3.8/dist-packages/torchvision/datasets/mnist.py:80: UserWarning: test_data has been renamed data\n",
            "  warnings.warn(\"test_data has been renamed data\")\n",
            "/usr/local/lib/python3.8/dist-packages/torchvision/datasets/mnist.py:70: UserWarning: test_labels has been renamed targets\n",
            "  warnings.warn(\"test_labels has been renamed targets\")\n"
          ]
        }
      ],
      "source": [
        "def get_mnist_data(device, batch_size):\n",
        "    preprocess = transforms.ToTensor()\n",
        "    train_loader = torch.utils.data.DataLoader(\n",
        "        datasets.MNIST('data', train=True, download=True, transform=preprocess),\n",
        "        batch_size=batch_size,\n",
        "        shuffle=True)\n",
        "    test_loader = torch.utils.data.DataLoader(\n",
        "        datasets.MNIST('data', train=False, download=True, transform=preprocess),\n",
        "        batch_size=batch_size,\n",
        "        shuffle=True)\n",
        "\n",
        "    # Create pre-processed training and test sets\n",
        "    X_train = train_loader.dataset.train_data.to(device).reshape(-1, 784).float() / 255\n",
        "    y_train = train_loader.dataset.train_labels.to(device)\n",
        "    X_test = test_loader.dataset.test_data.to(device).reshape(-1, 784).float() / 255\n",
        "    y_test = test_loader.dataset.test_labels.to(device)\n",
        "\n",
        "    return train_loader,test_loader, (X_test, y_test)\n",
        "\n",
        "train_loader, _,_ = get_mnist_data(device, batch_size)\n",
        "_,test_loader,_ = get_mnist_data(device, batch_size)\n",
        "_,_,(X_test, y_test)=get_mnist_data(device, batch_size)\n"
      ]
    },
    {
      "cell_type": "code",
      "execution_count": null,
      "metadata": {
        "id": "jwH3SSoy1uIT"
      },
      "outputs": [],
      "source": [
        "def gaussian_parameters(h, dim=-1):\n",
        "    \"\"\"\n",
        "    Converts generic real-valued representations into mean and variance\n",
        "    parameters of a Gaussian distribution\n",
        "\n",
        "    Args:\n",
        "        h: tensor: (batch, ..., dim, ...): Arbitrary tensor\n",
        "        dim: int: (): Dimension along which to split the tensor for mean and\n",
        "            variance\n",
        "\n",
        "    Returns:\n",
        "        m: tensor: (batch, ..., dim / 2, ...): Mean\n",
        "        v: tensor: (batch, ..., dim / 2, ...): Variance\n",
        "    \"\"\"\n",
        "    m, h = torch.split(h, h.size(dim) // 2, dim=dim)\n",
        "    v = F.softplus(h) + 1e-8\n",
        "    return m, v\n",
        "\n",
        "\n",
        "def sample_gaussian(m, v):\n",
        "    \"\"\"\n",
        "    Element-wise application reparameterization trick to sample from Gaussian\n",
        "\n",
        "    Args:\n",
        "        m: tensor: (batch, ...): Mean\n",
        "        v: tensor: (batch, ...): Variance\n",
        "\n",
        "    Return:\n",
        "        z: tensor: (batch, ...): Samples\n",
        "    \"\"\"\n",
        "\n",
        "    # Sample z\n",
        "    N=torch.distributions.Normal(0, 1)\n",
        "    N.loc = N.loc.cuda()\n",
        "    N.scale = N.scale.cuda()\n",
        "    z = m + torch.sqrt(v)*N.sample(m.shape)\n",
        "    return z\n",
        "\n",
        "\n",
        "bce = torch.nn.BCEWithLogitsLoss(reduction='none')\n",
        "\n",
        "\n",
        "def log_bernoulli_with_logits(x, logits):\n",
        "    \"\"\"\n",
        "    Computes the log probability of a Bernoulli given its logits\n",
        "\n",
        "    Args:\n",
        "        x: tensor: (batch, dim): Observation\n",
        "        logits: tensor: (batch, dim): Bernoulli logits\n",
        "\n",
        "    Return:\n",
        "        log_prob: tensor: (batch,): log probability of each sample\n",
        "    \"\"\"\n",
        "    log_prob = -bce(input=logits, target=x).sum(-1)\n",
        "    return log_prob\n",
        "\n",
        "\n",
        "def kl_normal(qm, qv, pm, pv):\n",
        "    \"\"\"\n",
        "    Computes the elem-wise KL divergence between two normal distributions KL(q || p) and\n",
        "    sum over the last dimension\n",
        "\n",
        "    Args:\n",
        "        qm: tensor: (batch, dim): q mean\n",
        "        qv: tensor: (batch, dim): q variance\n",
        "        pm: tensor: (batch, dim): p mean\n",
        "        pv: tensor: (batch, dim): p variance\n",
        "\n",
        "    Return:\n",
        "        kl: tensor: (batch,): kl between each sample\n",
        "    \"\"\"\n",
        "    element_wise = 0.5 * (torch.log(pv) - torch.log(qv) + qv / pv + (qm - pm).pow(2) / pv - 1)\n",
        "    kl = element_wise.sum(-1)\n",
        "    return kl"
      ]
    },
    {
      "cell_type": "code",
      "execution_count": null,
      "metadata": {
        "id": "3naeGOom1w6f"
      },
      "outputs": [],
      "source": [
        "class Encoder(nn.Module):\n",
        "    def __init__(self, z_dim, y_dim=0):\n",
        "        super().__init__()\n",
        "        self.z_dim = z_dim\n",
        "        self.y_dim = y_dim\n",
        "        self.net = nn.Sequential(\n",
        "            nn.Linear(784 + y_dim, 300),\n",
        "            nn.ELU(),\n",
        "            nn.Linear(300, 300),\n",
        "            nn.ELU(),\n",
        "            nn.Linear(300, 2 * z_dim),\n",
        "        )\n",
        "\n",
        "    def encode(self, x, y=None):\n",
        "        xy = x if y is None else torch.cat((x, y), dim=-1)\n",
        "        h = self.net(xy)\n",
        "        m, v = gaussian_parameters(h, dim=1)\n",
        "        return m, v\n",
        "\n",
        "class Decoder(nn.Module):\n",
        "    def __init__(self, z_dim, y_dim=0):\n",
        "        super().__init__()\n",
        "        self.z_dim = z_dim\n",
        "        self.y_dim = y_dim\n",
        "        self.net = nn.Sequential(\n",
        "            nn.Linear(z_dim + y_dim, 300),\n",
        "            nn.ELU(),\n",
        "            nn.Linear(300, 300),\n",
        "            nn.ELU(),\n",
        "            nn.Linear(300, 784)\n",
        "        )\n",
        "\n",
        "    def decode(self, z, y=None):\n",
        "        zy = z if y is None else torch.cat((z, y), dim=-1)\n",
        "        return self.net(zy)\n"
      ]
    },
    {
      "cell_type": "code",
      "execution_count": null,
      "metadata": {
        "id": "w6qgdObx13TP"
      },
      "outputs": [],
      "source": [
        "\n",
        "# Note that:  if y_dim==0 this is VAE, otherwise this is CVAE.\n",
        "class VAE(nn.Module):\n",
        "    def __init__(self, name='vae', z_dim=2, y_dim=0, Beta=1):\n",
        "        super().__init__()\n",
        "        self.name = name\n",
        "        self.z_dim = z_dim\n",
        "        self.y_dim = y_dim\n",
        "        self.Beta=Beta\n",
        "\n",
        "        self.enc = Encoder(self.z_dim,self.y_dim)\n",
        "        self.dec = Decoder(self.z_dim,self.y_dim)\n",
        "\n",
        "        # Set prior as fixed parameter attached to Module\n",
        "        self.z_prior_m = torch.nn.Parameter(torch.zeros(1), requires_grad=False)\n",
        "        self.z_prior_v = torch.nn.Parameter(torch.ones(1), requires_grad=False)\n",
        "        self.z_prior = (self.z_prior_m, self.z_prior_v)\n",
        "\n",
        "    def negative_elbo_bound(self, x, y=None):\n",
        "        \"\"\"\n",
        "        Computes the Evidence Lower Bound, KL and, Reconstruction costs\n",
        "\n",
        "        Args:\n",
        "            x: tensor: (batch, dim): Observations\n",
        "\n",
        "        Returns:\n",
        "            nelbo: tensor: (): Negative evidence lower bound\n",
        "            kl: tensor: (): ELBO KL divergence to prior\n",
        "            rec: tensor: (): ELBO Reconstruction term\n",
        "        \"\"\"\n",
        "        # Computing negative Evidence Lower Bound and its KL and Reconstruction term\n",
        "        # Note that nelbo = kl + rec\n",
        "        m, v = self.enc.encode(x,y)\n",
        "        kl= kl_normal(m,v,pm=torch.zeros(1).expand(self.z_dim).cuda(),pv=torch.ones(1).expand(self.z_dim).cuda())*self.Beta\n",
        "        kl=torch.mean(kl)\n",
        "        z = sample_gaussian(m, v)\n",
        "        logits= self.dec.decode(z,y)\n",
        "        rec= -log_bernoulli_with_logits(x, logits)\n",
        "        rec=torch.mean(rec)\n",
        "        nelbo= kl+rec\n",
        "        return nelbo, kl, rec\n",
        "\n",
        "\n",
        "    def loss(self, x, y=None):\n",
        "        nelbo, kl, rec = self.negative_elbo_bound(x,y)\n",
        "        loss = nelbo\n",
        "        summaries = dict((\n",
        "            ('train/loss', nelbo),\n",
        "            ('gen/elbo', -nelbo),\n",
        "            ('gen/kl_z', kl),\n",
        "            ('gen/rec', rec),\n",
        "        ))\n",
        "        return loss, summaries\n",
        "\n",
        "\n",
        "    def sample_sigmoid(self, batch):\n",
        "        z = self.sample_z(batch)\n",
        "        return self.compute_sigmoid_given(z)\n",
        "\n",
        "    def compute_sigmoid_given(self, z):\n",
        "        logits = self.dec.decode(z)\n",
        "        return torch.sigmoid(logits)\n",
        "\n",
        "    def sample_z(self, batch):\n",
        "        return sample_gaussian(\n",
        "            self.z_prior[0].expand(batch, self.z_dim),\n",
        "            self.z_prior[1].expand(batch, self.z_dim))\n",
        "\n",
        "    def sample_x(self, batch):\n",
        "        z = self.sample_z(batch)\n",
        "        return self.sample_x_given(z)\n",
        "\n",
        "    def sample_x_given(self, z):\n",
        "        return torch.bernoulli(self.compute_sigmoid_given(z))\n"
      ]
    },
    {
      "cell_type": "code",
      "execution_count": null,
      "metadata": {
        "colab": {
          "base_uri": "https://localhost:8080/"
        },
        "id": "Eg9Co4qT18Re",
        "outputId": "b1f3d334-1fc5-4526-82b5-d4709b0c6cc4"
      },
      "outputs": [
        {
          "name": "stderr",
          "output_type": "stream",
          "text": [
            "\r",
            "  0%|          | 0/50 [00:00<?, ?it/s]"
          ]
        },
        {
          "name": "stdout",
          "output_type": "stream",
          "text": [
            "nelbo:  tensor(118.2541, device='cuda:0', grad_fn=<AddBackward0>) kl:  tensor(12.6897, device='cuda:0', grad_fn=<MeanBackward0>) rec:  tensor(105.5644, device='cuda:0', grad_fn=<MeanBackward0>)\n"
          ]
        },
        {
          "name": "stderr",
          "output_type": "stream",
          "text": [
            "\r",
            "  2%|▏         | 1/50 [00:09<07:39,  9.37s/it]"
          ]
        },
        {
          "name": "stdout",
          "output_type": "stream",
          "text": [
            "nelbo:  tensor(113.7184, device='cuda:0', grad_fn=<AddBackward0>) kl:  tensor(15.1104, device='cuda:0', grad_fn=<MeanBackward0>) rec:  tensor(98.6080, device='cuda:0', grad_fn=<MeanBackward0>)\n"
          ]
        },
        {
          "name": "stderr",
          "output_type": "stream",
          "text": [
            "\r",
            "  4%|▍         | 2/50 [00:17<07:03,  8.81s/it]"
          ]
        },
        {
          "name": "stdout",
          "output_type": "stream",
          "text": [
            "nelbo:  tensor(110.7064, device='cuda:0', grad_fn=<AddBackward0>) kl:  tensor(16.2138, device='cuda:0', grad_fn=<MeanBackward0>) rec:  tensor(94.4927, device='cuda:0', grad_fn=<MeanBackward0>)\n"
          ]
        },
        {
          "name": "stderr",
          "output_type": "stream",
          "text": [
            "\r",
            "  6%|▌         | 3/50 [00:26<06:48,  8.68s/it]"
          ]
        },
        {
          "name": "stdout",
          "output_type": "stream",
          "text": [
            "nelbo:  tensor(107.0934, device='cuda:0', grad_fn=<AddBackward0>) kl:  tensor(16.0195, device='cuda:0', grad_fn=<MeanBackward0>) rec:  tensor(91.0739, device='cuda:0', grad_fn=<MeanBackward0>)\n"
          ]
        },
        {
          "name": "stderr",
          "output_type": "stream",
          "text": [
            "\r",
            "  8%|▊         | 4/50 [00:37<07:21,  9.59s/it]"
          ]
        },
        {
          "name": "stdout",
          "output_type": "stream",
          "text": [
            "nelbo:  tensor(100.9677, device='cuda:0', grad_fn=<AddBackward0>) kl:  tensor(15.7321, device='cuda:0', grad_fn=<MeanBackward0>) rec:  tensor(85.2356, device='cuda:0', grad_fn=<MeanBackward0>)\n"
          ]
        },
        {
          "name": "stderr",
          "output_type": "stream",
          "text": [
            "\r",
            " 10%|█         | 5/50 [00:45<06:56,  9.26s/it]"
          ]
        },
        {
          "name": "stdout",
          "output_type": "stream",
          "text": [
            "nelbo:  tensor(109.9402, device='cuda:0', grad_fn=<AddBackward0>) kl:  tensor(16.4446, device='cuda:0', grad_fn=<MeanBackward0>) rec:  tensor(93.4956, device='cuda:0', grad_fn=<MeanBackward0>)\n"
          ]
        },
        {
          "name": "stderr",
          "output_type": "stream",
          "text": [
            "\r",
            " 12%|█▏        | 6/50 [00:56<07:10,  9.78s/it]"
          ]
        },
        {
          "name": "stdout",
          "output_type": "stream",
          "text": [
            "nelbo:  tensor(104.6999, device='cuda:0', grad_fn=<AddBackward0>) kl:  tensor(15.8725, device='cuda:0', grad_fn=<MeanBackward0>) rec:  tensor(88.8274, device='cuda:0', grad_fn=<MeanBackward0>)\n"
          ]
        },
        {
          "name": "stderr",
          "output_type": "stream",
          "text": [
            "\r",
            " 14%|█▍        | 7/50 [01:06<07:05,  9.91s/it]"
          ]
        },
        {
          "name": "stdout",
          "output_type": "stream",
          "text": [
            "nelbo:  tensor(101.7290, device='cuda:0', grad_fn=<AddBackward0>) kl:  tensor(16.3394, device='cuda:0', grad_fn=<MeanBackward0>) rec:  tensor(85.3896, device='cuda:0', grad_fn=<MeanBackward0>)\n"
          ]
        },
        {
          "name": "stderr",
          "output_type": "stream",
          "text": [
            "\r",
            " 16%|█▌        | 8/50 [01:17<07:10, 10.25s/it]"
          ]
        },
        {
          "name": "stdout",
          "output_type": "stream",
          "text": [
            "nelbo:  tensor(99.9292, device='cuda:0', grad_fn=<AddBackward0>) kl:  tensor(15.9558, device='cuda:0', grad_fn=<MeanBackward0>) rec:  tensor(83.9734, device='cuda:0', grad_fn=<MeanBackward0>)\n"
          ]
        },
        {
          "name": "stderr",
          "output_type": "stream",
          "text": [
            "\r",
            " 18%|█▊        | 9/50 [01:26<06:38,  9.71s/it]"
          ]
        },
        {
          "name": "stdout",
          "output_type": "stream",
          "text": [
            "nelbo:  tensor(100.4064, device='cuda:0', grad_fn=<AddBackward0>) kl:  tensor(15.9469, device='cuda:0', grad_fn=<MeanBackward0>) rec:  tensor(84.4594, device='cuda:0', grad_fn=<MeanBackward0>)\n"
          ]
        },
        {
          "name": "stderr",
          "output_type": "stream",
          "text": [
            "\r",
            " 20%|██        | 10/50 [01:35<06:20,  9.51s/it]"
          ]
        },
        {
          "name": "stdout",
          "output_type": "stream",
          "text": [
            "nelbo:  tensor(96.0571, device='cuda:0', grad_fn=<AddBackward0>) kl:  tensor(16.1438, device='cuda:0', grad_fn=<MeanBackward0>) rec:  tensor(79.9133, device='cuda:0', grad_fn=<MeanBackward0>)\n"
          ]
        },
        {
          "name": "stderr",
          "output_type": "stream",
          "text": [
            "\r",
            " 22%|██▏       | 11/50 [01:43<05:58,  9.18s/it]"
          ]
        },
        {
          "name": "stdout",
          "output_type": "stream",
          "text": [
            "nelbo:  tensor(98.6049, device='cuda:0', grad_fn=<AddBackward0>) kl:  tensor(16.4856, device='cuda:0', grad_fn=<MeanBackward0>) rec:  tensor(82.1194, device='cuda:0', grad_fn=<MeanBackward0>)\n"
          ]
        },
        {
          "name": "stderr",
          "output_type": "stream",
          "text": [
            "\r",
            " 24%|██▍       | 12/50 [01:52<05:40,  8.96s/it]"
          ]
        },
        {
          "name": "stdout",
          "output_type": "stream",
          "text": [
            "nelbo:  tensor(94.9399, device='cuda:0', grad_fn=<AddBackward0>) kl:  tensor(16.0879, device='cuda:0', grad_fn=<MeanBackward0>) rec:  tensor(78.8520, device='cuda:0', grad_fn=<MeanBackward0>)\n"
          ]
        },
        {
          "name": "stderr",
          "output_type": "stream",
          "text": [
            "\r",
            " 26%|██▌       | 13/50 [02:01<05:31,  8.96s/it]"
          ]
        },
        {
          "name": "stdout",
          "output_type": "stream",
          "text": [
            "nelbo:  tensor(96.1566, device='cuda:0', grad_fn=<AddBackward0>) kl:  tensor(16.1314, device='cuda:0', grad_fn=<MeanBackward0>) rec:  tensor(80.0251, device='cuda:0', grad_fn=<MeanBackward0>)\n"
          ]
        },
        {
          "name": "stderr",
          "output_type": "stream",
          "text": [
            "\r",
            " 28%|██▊       | 14/50 [02:09<05:16,  8.80s/it]"
          ]
        },
        {
          "name": "stdout",
          "output_type": "stream",
          "text": [
            "nelbo:  tensor(99.6209, device='cuda:0', grad_fn=<AddBackward0>) kl:  tensor(16.7480, device='cuda:0', grad_fn=<MeanBackward0>) rec:  tensor(82.8729, device='cuda:0', grad_fn=<MeanBackward0>)\n"
          ]
        },
        {
          "name": "stderr",
          "output_type": "stream",
          "text": [
            "\r",
            " 30%|███       | 15/50 [02:18<05:04,  8.70s/it]"
          ]
        },
        {
          "name": "stdout",
          "output_type": "stream",
          "text": [
            "nelbo:  tensor(95.3597, device='cuda:0', grad_fn=<AddBackward0>) kl:  tensor(16.3800, device='cuda:0', grad_fn=<MeanBackward0>) rec:  tensor(78.9797, device='cuda:0', grad_fn=<MeanBackward0>)\n"
          ]
        },
        {
          "name": "stderr",
          "output_type": "stream",
          "text": [
            "\r",
            " 32%|███▏      | 16/50 [02:27<05:01,  8.85s/it]"
          ]
        },
        {
          "name": "stdout",
          "output_type": "stream",
          "text": [
            "nelbo:  tensor(92.5597, device='cuda:0', grad_fn=<AddBackward0>) kl:  tensor(16.0122, device='cuda:0', grad_fn=<MeanBackward0>) rec:  tensor(76.5475, device='cuda:0', grad_fn=<MeanBackward0>)\n"
          ]
        },
        {
          "name": "stderr",
          "output_type": "stream",
          "text": [
            "\r",
            " 34%|███▍      | 17/50 [02:35<04:47,  8.72s/it]"
          ]
        },
        {
          "name": "stdout",
          "output_type": "stream",
          "text": [
            "nelbo:  tensor(92.1780, device='cuda:0', grad_fn=<AddBackward0>) kl:  tensor(16.0650, device='cuda:0', grad_fn=<MeanBackward0>) rec:  tensor(76.1130, device='cuda:0', grad_fn=<MeanBackward0>)\n"
          ]
        },
        {
          "name": "stderr",
          "output_type": "stream",
          "text": [
            "\r",
            " 36%|███▌      | 18/50 [02:45<04:42,  8.84s/it]"
          ]
        },
        {
          "name": "stdout",
          "output_type": "stream",
          "text": [
            "nelbo:  tensor(95.7797, device='cuda:0', grad_fn=<AddBackward0>) kl:  tensor(16.4737, device='cuda:0', grad_fn=<MeanBackward0>) rec:  tensor(79.3059, device='cuda:0', grad_fn=<MeanBackward0>)\n"
          ]
        },
        {
          "name": "stderr",
          "output_type": "stream",
          "text": [
            "\r",
            " 38%|███▊      | 19/50 [02:53<04:31,  8.74s/it]"
          ]
        },
        {
          "name": "stdout",
          "output_type": "stream",
          "text": [
            "nelbo:  tensor(97.9389, device='cuda:0', grad_fn=<AddBackward0>) kl:  tensor(16.9554, device='cuda:0', grad_fn=<MeanBackward0>) rec:  tensor(80.9835, device='cuda:0', grad_fn=<MeanBackward0>)\n"
          ]
        },
        {
          "name": "stderr",
          "output_type": "stream",
          "text": [
            "\r",
            " 40%|████      | 20/50 [03:02<04:23,  8.77s/it]"
          ]
        },
        {
          "name": "stdout",
          "output_type": "stream",
          "text": [
            "nelbo:  tensor(95.3983, device='cuda:0', grad_fn=<AddBackward0>) kl:  tensor(16.1810, device='cuda:0', grad_fn=<MeanBackward0>) rec:  tensor(79.2172, device='cuda:0', grad_fn=<MeanBackward0>)\n"
          ]
        },
        {
          "name": "stderr",
          "output_type": "stream",
          "text": [
            "\r",
            " 42%|████▏     | 21/50 [03:10<04:11,  8.66s/it]"
          ]
        },
        {
          "name": "stdout",
          "output_type": "stream",
          "text": [
            "nelbo:  tensor(94.8906, device='cuda:0', grad_fn=<AddBackward0>) kl:  tensor(16.2947, device='cuda:0', grad_fn=<MeanBackward0>) rec:  tensor(78.5959, device='cuda:0', grad_fn=<MeanBackward0>)\n"
          ]
        },
        {
          "name": "stderr",
          "output_type": "stream",
          "text": [
            "\r",
            " 44%|████▍     | 22/50 [03:19<04:05,  8.78s/it]"
          ]
        },
        {
          "name": "stdout",
          "output_type": "stream",
          "text": [
            "nelbo:  tensor(92.0261, device='cuda:0', grad_fn=<AddBackward0>) kl:  tensor(15.9706, device='cuda:0', grad_fn=<MeanBackward0>) rec:  tensor(76.0554, device='cuda:0', grad_fn=<MeanBackward0>)\n"
          ]
        },
        {
          "name": "stderr",
          "output_type": "stream",
          "text": [
            "\r",
            " 46%|████▌     | 23/50 [03:29<04:02,  8.98s/it]"
          ]
        },
        {
          "name": "stdout",
          "output_type": "stream",
          "text": [
            "nelbo:  tensor(95.4105, device='cuda:0', grad_fn=<AddBackward0>) kl:  tensor(16.2486, device='cuda:0', grad_fn=<MeanBackward0>) rec:  tensor(79.1619, device='cuda:0', grad_fn=<MeanBackward0>)\n"
          ]
        },
        {
          "name": "stderr",
          "output_type": "stream",
          "text": [
            "\r",
            " 48%|████▊     | 24/50 [03:37<03:49,  8.82s/it]"
          ]
        },
        {
          "name": "stdout",
          "output_type": "stream",
          "text": [
            "nelbo:  tensor(96.7179, device='cuda:0', grad_fn=<AddBackward0>) kl:  tensor(16.9666, device='cuda:0', grad_fn=<MeanBackward0>) rec:  tensor(79.7514, device='cuda:0', grad_fn=<MeanBackward0>)\n"
          ]
        },
        {
          "name": "stderr",
          "output_type": "stream",
          "text": [
            "\r",
            " 50%|█████     | 25/50 [03:46<03:37,  8.70s/it]"
          ]
        },
        {
          "name": "stdout",
          "output_type": "stream",
          "text": [
            "nelbo:  tensor(96.6894, device='cuda:0', grad_fn=<AddBackward0>) kl:  tensor(16.7350, device='cuda:0', grad_fn=<MeanBackward0>) rec:  tensor(79.9545, device='cuda:0', grad_fn=<MeanBackward0>)\n"
          ]
        },
        {
          "name": "stderr",
          "output_type": "stream",
          "text": [
            "\r",
            " 52%|█████▏    | 26/50 [03:54<03:26,  8.62s/it]"
          ]
        },
        {
          "name": "stdout",
          "output_type": "stream",
          "text": [
            "nelbo:  tensor(96.5053, device='cuda:0', grad_fn=<AddBackward0>) kl:  tensor(16.7268, device='cuda:0', grad_fn=<MeanBackward0>) rec:  tensor(79.7785, device='cuda:0', grad_fn=<MeanBackward0>)\n"
          ]
        },
        {
          "name": "stderr",
          "output_type": "stream",
          "text": [
            "\r",
            " 54%|█████▍    | 27/50 [04:02<03:17,  8.57s/it]"
          ]
        },
        {
          "name": "stdout",
          "output_type": "stream",
          "text": [
            "nelbo:  tensor(98.0151, device='cuda:0', grad_fn=<AddBackward0>) kl:  tensor(17.3406, device='cuda:0', grad_fn=<MeanBackward0>) rec:  tensor(80.6745, device='cuda:0', grad_fn=<MeanBackward0>)\n"
          ]
        },
        {
          "name": "stderr",
          "output_type": "stream",
          "text": [
            "\r",
            " 56%|█████▌    | 28/50 [04:11<03:07,  8.53s/it]"
          ]
        },
        {
          "name": "stdout",
          "output_type": "stream",
          "text": [
            "nelbo:  tensor(93.4556, device='cuda:0', grad_fn=<AddBackward0>) kl:  tensor(16.7008, device='cuda:0', grad_fn=<MeanBackward0>) rec:  tensor(76.7548, device='cuda:0', grad_fn=<MeanBackward0>)\n"
          ]
        },
        {
          "name": "stderr",
          "output_type": "stream",
          "text": [
            "\r",
            " 58%|█████▊    | 29/50 [04:20<03:01,  8.66s/it]"
          ]
        },
        {
          "name": "stdout",
          "output_type": "stream",
          "text": [
            "nelbo:  tensor(97.3010, device='cuda:0', grad_fn=<AddBackward0>) kl:  tensor(16.7127, device='cuda:0', grad_fn=<MeanBackward0>) rec:  tensor(80.5883, device='cuda:0', grad_fn=<MeanBackward0>)\n"
          ]
        },
        {
          "name": "stderr",
          "output_type": "stream",
          "text": [
            "\r",
            " 60%|██████    | 30/50 [04:28<02:52,  8.63s/it]"
          ]
        },
        {
          "name": "stdout",
          "output_type": "stream",
          "text": [
            "nelbo:  tensor(92.6893, device='cuda:0', grad_fn=<AddBackward0>) kl:  tensor(16.4535, device='cuda:0', grad_fn=<MeanBackward0>) rec:  tensor(76.2358, device='cuda:0', grad_fn=<MeanBackward0>)\n"
          ]
        },
        {
          "name": "stderr",
          "output_type": "stream",
          "text": [
            "\r",
            " 62%|██████▏   | 31/50 [04:37<02:42,  8.57s/it]"
          ]
        },
        {
          "name": "stdout",
          "output_type": "stream",
          "text": [
            "nelbo:  tensor(96.4400, device='cuda:0', grad_fn=<AddBackward0>) kl:  tensor(16.5589, device='cuda:0', grad_fn=<MeanBackward0>) rec:  tensor(79.8811, device='cuda:0', grad_fn=<MeanBackward0>)\n"
          ]
        },
        {
          "name": "stderr",
          "output_type": "stream",
          "text": [
            "\r",
            " 64%|██████▍   | 32/50 [04:45<02:33,  8.53s/it]"
          ]
        },
        {
          "name": "stdout",
          "output_type": "stream",
          "text": [
            "nelbo:  tensor(99.6336, device='cuda:0', grad_fn=<AddBackward0>) kl:  tensor(16.7202, device='cuda:0', grad_fn=<MeanBackward0>) rec:  tensor(82.9134, device='cuda:0', grad_fn=<MeanBackward0>)\n"
          ]
        },
        {
          "name": "stderr",
          "output_type": "stream",
          "text": [
            "\r",
            " 66%|██████▌   | 33/50 [04:54<02:25,  8.54s/it]"
          ]
        },
        {
          "name": "stdout",
          "output_type": "stream",
          "text": [
            "nelbo:  tensor(96.5815, device='cuda:0', grad_fn=<AddBackward0>) kl:  tensor(17.0506, device='cuda:0', grad_fn=<MeanBackward0>) rec:  tensor(79.5309, device='cuda:0', grad_fn=<MeanBackward0>)\n"
          ]
        },
        {
          "name": "stderr",
          "output_type": "stream",
          "text": [
            "\r",
            " 68%|██████▊   | 34/50 [05:03<02:18,  8.69s/it]"
          ]
        },
        {
          "name": "stdout",
          "output_type": "stream",
          "text": [
            "nelbo:  tensor(95.0901, device='cuda:0', grad_fn=<AddBackward0>) kl:  tensor(16.7971, device='cuda:0', grad_fn=<MeanBackward0>) rec:  tensor(78.2930, device='cuda:0', grad_fn=<MeanBackward0>)\n"
          ]
        },
        {
          "name": "stderr",
          "output_type": "stream",
          "text": [
            "\r",
            " 70%|███████   | 35/50 [05:11<02:08,  8.58s/it]"
          ]
        },
        {
          "name": "stdout",
          "output_type": "stream",
          "text": [
            "nelbo:  tensor(86.0983, device='cuda:0', grad_fn=<AddBackward0>) kl:  tensor(16.3723, device='cuda:0', grad_fn=<MeanBackward0>) rec:  tensor(69.7261, device='cuda:0', grad_fn=<MeanBackward0>)\n"
          ]
        },
        {
          "name": "stderr",
          "output_type": "stream",
          "text": [
            "\r",
            " 72%|███████▏  | 36/50 [05:20<02:01,  8.71s/it]"
          ]
        },
        {
          "name": "stdout",
          "output_type": "stream",
          "text": [
            "nelbo:  tensor(98.8852, device='cuda:0', grad_fn=<AddBackward0>) kl:  tensor(17.2557, device='cuda:0', grad_fn=<MeanBackward0>) rec:  tensor(81.6296, device='cuda:0', grad_fn=<MeanBackward0>)\n"
          ]
        },
        {
          "name": "stderr",
          "output_type": "stream",
          "text": [
            "\r",
            " 74%|███████▍  | 37/50 [05:29<01:52,  8.66s/it]"
          ]
        },
        {
          "name": "stdout",
          "output_type": "stream",
          "text": [
            "nelbo:  tensor(95.5352, device='cuda:0', grad_fn=<AddBackward0>) kl:  tensor(16.9803, device='cuda:0', grad_fn=<MeanBackward0>) rec:  tensor(78.5549, device='cuda:0', grad_fn=<MeanBackward0>)\n"
          ]
        },
        {
          "name": "stderr",
          "output_type": "stream",
          "text": [
            "\r",
            " 76%|███████▌  | 38/50 [05:37<01:43,  8.58s/it]"
          ]
        },
        {
          "name": "stdout",
          "output_type": "stream",
          "text": [
            "nelbo:  tensor(97.9833, device='cuda:0', grad_fn=<AddBackward0>) kl:  tensor(16.9306, device='cuda:0', grad_fn=<MeanBackward0>) rec:  tensor(81.0527, device='cuda:0', grad_fn=<MeanBackward0>)\n"
          ]
        },
        {
          "name": "stderr",
          "output_type": "stream",
          "text": [
            "\r",
            " 78%|███████▊  | 39/50 [05:46<01:36,  8.75s/it]"
          ]
        },
        {
          "name": "stdout",
          "output_type": "stream",
          "text": [
            "nelbo:  tensor(92.1177, device='cuda:0', grad_fn=<AddBackward0>) kl:  tensor(16.6126, device='cuda:0', grad_fn=<MeanBackward0>) rec:  tensor(75.5051, device='cuda:0', grad_fn=<MeanBackward0>)\n"
          ]
        },
        {
          "name": "stderr",
          "output_type": "stream",
          "text": [
            "\r",
            " 80%|████████  | 40/50 [05:55<01:27,  8.72s/it]"
          ]
        },
        {
          "name": "stdout",
          "output_type": "stream",
          "text": [
            "nelbo:  tensor(91.8834, device='cuda:0', grad_fn=<AddBackward0>) kl:  tensor(17.4229, device='cuda:0', grad_fn=<MeanBackward0>) rec:  tensor(74.4605, device='cuda:0', grad_fn=<MeanBackward0>)\n"
          ]
        },
        {
          "name": "stderr",
          "output_type": "stream",
          "text": [
            "\r",
            " 82%|████████▏ | 41/50 [06:03<01:17,  8.63s/it]"
          ]
        },
        {
          "name": "stdout",
          "output_type": "stream",
          "text": [
            "nelbo:  tensor(95.2062, device='cuda:0', grad_fn=<AddBackward0>) kl:  tensor(17.2467, device='cuda:0', grad_fn=<MeanBackward0>) rec:  tensor(77.9595, device='cuda:0', grad_fn=<MeanBackward0>)\n"
          ]
        },
        {
          "name": "stderr",
          "output_type": "stream",
          "text": [
            "\r",
            " 84%|████████▍ | 42/50 [06:12<01:08,  8.56s/it]"
          ]
        },
        {
          "name": "stdout",
          "output_type": "stream",
          "text": [
            "nelbo:  tensor(92.3322, device='cuda:0', grad_fn=<AddBackward0>) kl:  tensor(16.7864, device='cuda:0', grad_fn=<MeanBackward0>) rec:  tensor(75.5458, device='cuda:0', grad_fn=<MeanBackward0>)\n"
          ]
        },
        {
          "name": "stderr",
          "output_type": "stream",
          "text": [
            "\r",
            " 86%|████████▌ | 43/50 [06:20<00:59,  8.51s/it]"
          ]
        },
        {
          "name": "stdout",
          "output_type": "stream",
          "text": [
            "nelbo:  tensor(93.8376, device='cuda:0', grad_fn=<AddBackward0>) kl:  tensor(17.3650, device='cuda:0', grad_fn=<MeanBackward0>) rec:  tensor(76.4726, device='cuda:0', grad_fn=<MeanBackward0>)\n"
          ]
        },
        {
          "name": "stderr",
          "output_type": "stream",
          "text": [
            "\r",
            " 88%|████████▊ | 44/50 [06:29<00:52,  8.71s/it]"
          ]
        },
        {
          "name": "stdout",
          "output_type": "stream",
          "text": [
            "nelbo:  tensor(92.8015, device='cuda:0', grad_fn=<AddBackward0>) kl:  tensor(16.5619, device='cuda:0', grad_fn=<MeanBackward0>) rec:  tensor(76.2395, device='cuda:0', grad_fn=<MeanBackward0>)\n"
          ]
        },
        {
          "name": "stderr",
          "output_type": "stream",
          "text": [
            "\r",
            " 90%|█████████ | 45/50 [06:38<00:43,  8.61s/it]"
          ]
        },
        {
          "name": "stdout",
          "output_type": "stream",
          "text": [
            "nelbo:  tensor(92.9598, device='cuda:0', grad_fn=<AddBackward0>) kl:  tensor(17.0127, device='cuda:0', grad_fn=<MeanBackward0>) rec:  tensor(75.9471, device='cuda:0', grad_fn=<MeanBackward0>)\n"
          ]
        },
        {
          "name": "stderr",
          "output_type": "stream",
          "text": [
            "\r",
            " 92%|█████████▏| 46/50 [06:46<00:34,  8.58s/it]"
          ]
        },
        {
          "name": "stdout",
          "output_type": "stream",
          "text": [
            "nelbo:  tensor(91.5890, device='cuda:0', grad_fn=<AddBackward0>) kl:  tensor(16.8779, device='cuda:0', grad_fn=<MeanBackward0>) rec:  tensor(74.7111, device='cuda:0', grad_fn=<MeanBackward0>)\n"
          ]
        },
        {
          "name": "stderr",
          "output_type": "stream",
          "text": [
            "\r",
            " 94%|█████████▍| 47/50 [06:55<00:25,  8.52s/it]"
          ]
        },
        {
          "name": "stdout",
          "output_type": "stream",
          "text": [
            "nelbo:  tensor(93.9803, device='cuda:0', grad_fn=<AddBackward0>) kl:  tensor(16.8489, device='cuda:0', grad_fn=<MeanBackward0>) rec:  tensor(77.1314, device='cuda:0', grad_fn=<MeanBackward0>)\n"
          ]
        },
        {
          "name": "stderr",
          "output_type": "stream",
          "text": [
            "\r",
            " 96%|█████████▌| 48/50 [07:04<00:17,  8.66s/it]"
          ]
        },
        {
          "name": "stdout",
          "output_type": "stream",
          "text": [
            "nelbo:  tensor(97.8645, device='cuda:0', grad_fn=<AddBackward0>) kl:  tensor(17.1027, device='cuda:0', grad_fn=<MeanBackward0>) rec:  tensor(80.7618, device='cuda:0', grad_fn=<MeanBackward0>)\n"
          ]
        },
        {
          "name": "stderr",
          "output_type": "stream",
          "text": [
            "\r",
            " 98%|█████████▊| 49/50 [07:13<00:08,  8.74s/it]"
          ]
        },
        {
          "name": "stdout",
          "output_type": "stream",
          "text": [
            "nelbo:  tensor(96.8171, device='cuda:0', grad_fn=<AddBackward0>) kl:  tensor(17.0567, device='cuda:0', grad_fn=<MeanBackward0>) rec:  tensor(79.7605, device='cuda:0', grad_fn=<MeanBackward0>)\n"
          ]
        },
        {
          "name": "stderr",
          "output_type": "stream",
          "text": [
            "100%|██████████| 50/50 [07:21<00:00,  8.83s/it]\n"
          ]
        }
      ],
      "source": [
        "cvae = VAE(z_dim=z, y_dim=10, Beta=1).to(device)\n",
        "#Note that since y_dim is not 0, so this is CVAE.\n",
        "optimizer = optim.Adam(cvae.parameters(), lr=learning_rate)\n",
        "nelbo_1=torch.zeros(1,50)\n",
        "kl_1=torch.zeros(1,50)\n",
        "rec_1=torch.zeros(1,50)\n",
        "nelbo_test_1=torch.zeros(1,50)\n",
        "kl_test_1=torch.zeros(1,50)\n",
        "rec_test_1=torch.zeros(1,50)\n",
        "\n",
        "for i in tqdm(range(iter_max)):\n",
        "    for batch_idx, (xu, yu) in enumerate(train_loader):\n",
        "\n",
        "        optimizer.zero_grad()\n",
        "\n",
        "        xu = torch.bernoulli(xu.to(device).reshape(xu.size(0), -1))\n",
        "        yu = yu.new(np.eye(10)[yu]).to(device).float()\n",
        "        loss, summaries = cvae.loss(xu,yu)\n",
        "        nelbo_1[0][i]=loss\n",
        "        kl_1[0][i]=summaries['gen/kl_z']\n",
        "        rec_1[0][i]=summaries['gen/rec']\n",
        "        loss.backward()\n",
        "        optimizer.step()\n",
        "\n",
        "    print('nelbo: ', summaries['train/loss'],'kl: ',summaries['gen/kl_z'],'rec: ',summaries['gen/rec'])\n",
        "    with torch.no_grad():\n",
        "      for batch_idx_test, (xu_test, yu_test) in enumerate(test_loader):\n",
        "\n",
        "        optimizer.zero_grad()\n",
        "\n",
        "        xu_test = torch.bernoulli(xu_test.to(device).reshape(xu_test.size(0), -1))\n",
        "        yu_test = yu_test.new(np.eye(10)[yu_test]).to(device).float()\n",
        "        loss_test, summaries_test = cvae.loss(xu_test,yu_test)\n",
        "\n",
        "        nelbo_test_1[0][i]=loss_test\n",
        "        kl_test_1[0][i]=summaries_test['gen/kl_z']\n",
        "        rec_test_1[0][i]=summaries_test['gen/rec']"
      ]
    },
    {
      "cell_type": "code",
      "execution_count": null,
      "metadata": {
        "id": "mHGEGFHq2IZB"
      },
      "outputs": [],
      "source": [
        "import matplotlib.pyplot as plt\n",
        "def cpred(class_number):\n",
        "  z=sample_gaussian(torch.zeros(10).cuda(), torch.ones(10).cuda())\n",
        "  y=torch.zeros(10)\n",
        "  y[class_number]=1\n",
        "  logits=cvae.dec.decode(z.cuda(),y.cuda())\n",
        "\n",
        "  ### seeing the bluring\n",
        "  X_hat=logits\n",
        "\n",
        "  ### not seeing the bluring  ( if you want to generate images in binary erase the hashtag sign(#) at the begning of the below line)\n",
        "  #X_hat=torch.bernoulli(torch.sigmoid(logits))\n",
        "\n",
        "\n",
        "  X_hat=X_hat.reshape(28, 28).to('cpu').detach().numpy()\n",
        "  plt.imshow(X_hat)\n",
        ""
      ]
    },
    {
      "cell_type": "code",
      "execution_count": null,
      "metadata": {
        "colab": {
          "base_uri": "https://localhost:8080/",
          "height": 265
        },
        "id": "EjOMZuT22Jns",
        "outputId": "0deccfc6-8bef-4ed8-a8e3-87ca09ffba33"
      },
      "outputs": [
        {
          "data": {
            "image/png": "[encoded data removed]",
            "text/plain": [
              "<Figure size 432x288 with 1 Axes>"
            ]
          },
          "metadata": {
            "needs_background": "light"
          },
          "output_type": "display_data"
        }
      ],
      "source": [
        "cpred(4)"
      ]
    },
    {
      "cell_type": "code",
      "execution_count": null,
      "metadata": {
        "colab": {
          "base_uri": "https://localhost:8080/"
        },
        "id": "_Dfo8UqE2O1i",
        "outputId": "b8a487ea-5ae7-4631-828b-7ca186ca55de"
      },
      "outputs": [
        {
          "name": "stderr",
          "output_type": "stream",
          "text": [
            "\r",
            "  0%|          | 0/50 [00:00<?, ?it/s]"
          ]
        },
        {
          "name": "stdout",
          "output_type": "stream",
          "text": [
            "nelbo:  tensor(126.7183, device='cuda:0', grad_fn=<AddBackward0>) kl:  tensor(15.8067, device='cuda:0', grad_fn=<MeanBackward0>) rec:  tensor(110.9115, device='cuda:0', grad_fn=<MeanBackward0>)\n"
          ]
        },
        {
          "name": "stderr",
          "output_type": "stream",
          "text": [
            "\r",
            "  2%|▏         | 1/50 [00:08<06:53,  8.43s/it]"
          ]
        },
        {
          "name": "stdout",
          "output_type": "stream",
          "text": [
            "nelbo:  tensor(116.5325, device='cuda:0', grad_fn=<AddBackward0>) kl:  tensor(16.6810, device='cuda:0', grad_fn=<MeanBackward0>) rec:  tensor(99.8515, device='cuda:0', grad_fn=<MeanBackward0>)\n"
          ]
        },
        {
          "name": "stderr",
          "output_type": "stream",
          "text": [
            "\r",
            "  4%|▍         | 2/50 [00:17<07:02,  8.79s/it]"
          ]
        },
        {
          "name": "stdout",
          "output_type": "stream",
          "text": [
            "nelbo:  tensor(109.6000, device='cuda:0', grad_fn=<AddBackward0>) kl:  tensor(17.3884, device='cuda:0', grad_fn=<MeanBackward0>) rec:  tensor(92.2116, device='cuda:0', grad_fn=<MeanBackward0>)\n"
          ]
        },
        {
          "name": "stderr",
          "output_type": "stream",
          "text": [
            "\r",
            "  6%|▌         | 3/50 [00:25<06:47,  8.66s/it]"
          ]
        },
        {
          "name": "stdout",
          "output_type": "stream",
          "text": [
            "nelbo:  tensor(110.4356, device='cuda:0', grad_fn=<AddBackward0>) kl:  tensor(17.3152, device='cuda:0', grad_fn=<MeanBackward0>) rec:  tensor(93.1204, device='cuda:0', grad_fn=<MeanBackward0>)\n"
          ]
        },
        {
          "name": "stderr",
          "output_type": "stream",
          "text": [
            "\r",
            "  8%|▊         | 4/50 [00:35<06:53,  8.99s/it]"
          ]
        },
        {
          "name": "stdout",
          "output_type": "stream",
          "text": [
            "nelbo:  tensor(109.3448, device='cuda:0', grad_fn=<AddBackward0>) kl:  tensor(17.8265, device='cuda:0', grad_fn=<MeanBackward0>) rec:  tensor(91.5184, device='cuda:0', grad_fn=<MeanBackward0>)\n"
          ]
        },
        {
          "name": "stderr",
          "output_type": "stream",
          "text": [
            "\r",
            " 10%|█         | 5/50 [00:43<06:36,  8.80s/it]"
          ]
        },
        {
          "name": "stdout",
          "output_type": "stream",
          "text": [
            "nelbo:  tensor(109.8894, device='cuda:0', grad_fn=<AddBackward0>) kl:  tensor(17.9886, device='cuda:0', grad_fn=<MeanBackward0>) rec:  tensor(91.9008, device='cuda:0', grad_fn=<MeanBackward0>)\n"
          ]
        },
        {
          "name": "stderr",
          "output_type": "stream",
          "text": [
            "\r",
            " 12%|█▏        | 6/50 [00:57<07:35, 10.35s/it]"
          ]
        },
        {
          "name": "stdout",
          "output_type": "stream",
          "text": [
            "nelbo:  tensor(107.6136, device='cuda:0', grad_fn=<AddBackward0>) kl:  tensor(18.6592, device='cuda:0', grad_fn=<MeanBackward0>) rec:  tensor(88.9544, device='cuda:0', grad_fn=<MeanBackward0>)\n"
          ]
        },
        {
          "name": "stderr",
          "output_type": "stream",
          "text": [
            "\r",
            " 14%|█▍        | 7/50 [01:07<07:20, 10.24s/it]"
          ]
        },
        {
          "name": "stdout",
          "output_type": "stream",
          "text": [
            "nelbo:  tensor(107.1742, device='cuda:0', grad_fn=<AddBackward0>) kl:  tensor(18.6718, device='cuda:0', grad_fn=<MeanBackward0>) rec:  tensor(88.5024, device='cuda:0', grad_fn=<MeanBackward0>)\n"
          ]
        },
        {
          "name": "stderr",
          "output_type": "stream",
          "text": [
            "\r",
            " 16%|█▌        | 8/50 [01:18<07:19, 10.47s/it]"
          ]
        },
        {
          "name": "stdout",
          "output_type": "stream",
          "text": [
            "nelbo:  tensor(104.9897, device='cuda:0', grad_fn=<AddBackward0>) kl:  tensor(18.4979, device='cuda:0', grad_fn=<MeanBackward0>) rec:  tensor(86.4918, device='cuda:0', grad_fn=<MeanBackward0>)\n"
          ]
        },
        {
          "name": "stderr",
          "output_type": "stream",
          "text": [
            "\r",
            " 18%|█▊        | 9/50 [01:32<07:53, 11.55s/it]"
          ]
        },
        {
          "name": "stdout",
          "output_type": "stream",
          "text": [
            "nelbo:  tensor(105.9624, device='cuda:0', grad_fn=<AddBackward0>) kl:  tensor(18.3343, device='cuda:0', grad_fn=<MeanBackward0>) rec:  tensor(87.6281, device='cuda:0', grad_fn=<MeanBackward0>)\n"
          ]
        },
        {
          "name": "stderr",
          "output_type": "stream",
          "text": [
            "\r",
            " 20%|██        | 10/50 [01:42<07:31, 11.28s/it]"
          ]
        },
        {
          "name": "stdout",
          "output_type": "stream",
          "text": [
            "nelbo:  tensor(103.8765, device='cuda:0', grad_fn=<AddBackward0>) kl:  tensor(18.7166, device='cuda:0', grad_fn=<MeanBackward0>) rec:  tensor(85.1599, device='cuda:0', grad_fn=<MeanBackward0>)\n"
          ]
        },
        {
          "name": "stderr",
          "output_type": "stream",
          "text": [
            "\r",
            " 22%|██▏       | 11/50 [01:51<06:46, 10.42s/it]"
          ]
        },
        {
          "name": "stdout",
          "output_type": "stream",
          "text": [
            "nelbo:  tensor(101.2961, device='cuda:0', grad_fn=<AddBackward0>) kl:  tensor(18.8789, device='cuda:0', grad_fn=<MeanBackward0>) rec:  tensor(82.4171, device='cuda:0', grad_fn=<MeanBackward0>)\n"
          ]
        },
        {
          "name": "stderr",
          "output_type": "stream",
          "text": [
            "\r",
            " 24%|██▍       | 12/50 [01:59<06:12,  9.80s/it]"
          ]
        },
        {
          "name": "stdout",
          "output_type": "stream",
          "text": [
            "nelbo:  tensor(104.1635, device='cuda:0', grad_fn=<AddBackward0>) kl:  tensor(18.9864, device='cuda:0', grad_fn=<MeanBackward0>) rec:  tensor(85.1770, device='cuda:0', grad_fn=<MeanBackward0>)\n"
          ]
        },
        {
          "name": "stderr",
          "output_type": "stream",
          "text": [
            "\r",
            " 26%|██▌       | 13/50 [02:08<05:54,  9.58s/it]"
          ]
        },
        {
          "name": "stdout",
          "output_type": "stream",
          "text": [
            "nelbo:  tensor(96.4672, device='cuda:0', grad_fn=<AddBackward0>) kl:  tensor(18.5191, device='cuda:0', grad_fn=<MeanBackward0>) rec:  tensor(77.9481, device='cuda:0', grad_fn=<MeanBackward0>)\n"
          ]
        },
        {
          "name": "stderr",
          "output_type": "stream",
          "text": [
            "\r",
            " 28%|██▊       | 14/50 [02:17<05:40,  9.45s/it]"
          ]
        },
        {
          "name": "stdout",
          "output_type": "stream",
          "text": [
            "nelbo:  tensor(105.8540, device='cuda:0', grad_fn=<AddBackward0>) kl:  tensor(20.0529, device='cuda:0', grad_fn=<MeanBackward0>) rec:  tensor(85.8010, device='cuda:0', grad_fn=<MeanBackward0>)\n"
          ]
        },
        {
          "name": "stderr",
          "output_type": "stream",
          "text": [
            "\r",
            " 30%|███       | 15/50 [02:26<05:20,  9.16s/it]"
          ]
        },
        {
          "name": "stdout",
          "output_type": "stream",
          "text": [
            "nelbo:  tensor(97.0297, device='cuda:0', grad_fn=<AddBackward0>) kl:  tensor(18.7187, device='cuda:0', grad_fn=<MeanBackward0>) rec:  tensor(78.3110, device='cuda:0', grad_fn=<MeanBackward0>)\n"
          ]
        },
        {
          "name": "stderr",
          "output_type": "stream",
          "text": [
            "\r",
            " 32%|███▏      | 16/50 [02:35<05:14,  9.26s/it]"
          ]
        },
        {
          "name": "stdout",
          "output_type": "stream",
          "text": [
            "nelbo:  tensor(97.7150, device='cuda:0', grad_fn=<AddBackward0>) kl:  tensor(18.7208, device='cuda:0', grad_fn=<MeanBackward0>) rec:  tensor(78.9941, device='cuda:0', grad_fn=<MeanBackward0>)\n"
          ]
        },
        {
          "name": "stderr",
          "output_type": "stream",
          "text": [
            "\r",
            " 34%|███▍      | 17/50 [02:44<04:56,  8.99s/it]"
          ]
        },
        {
          "name": "stdout",
          "output_type": "stream",
          "text": [
            "nelbo:  tensor(102.5181, device='cuda:0', grad_fn=<AddBackward0>) kl:  tensor(18.5254, device='cuda:0', grad_fn=<MeanBackward0>) rec:  tensor(83.9927, device='cuda:0', grad_fn=<MeanBackward0>)\n"
          ]
        },
        {
          "name": "stderr",
          "output_type": "stream",
          "text": [
            "\r",
            " 36%|███▌      | 18/50 [02:53<04:48,  9.00s/it]"
          ]
        },
        {
          "name": "stdout",
          "output_type": "stream",
          "text": [
            "nelbo:  tensor(100.2166, device='cuda:0', grad_fn=<AddBackward0>) kl:  tensor(19.0809, device='cuda:0', grad_fn=<MeanBackward0>) rec:  tensor(81.1357, device='cuda:0', grad_fn=<MeanBackward0>)\n"
          ]
        },
        {
          "name": "stderr",
          "output_type": "stream",
          "text": [
            "\r",
            " 38%|███▊      | 19/50 [03:01<04:33,  8.82s/it]"
          ]
        },
        {
          "name": "stdout",
          "output_type": "stream",
          "text": [
            "nelbo:  tensor(103.5892, device='cuda:0', grad_fn=<AddBackward0>) kl:  tensor(19.2692, device='cuda:0', grad_fn=<MeanBackward0>) rec:  tensor(84.3201, device='cuda:0', grad_fn=<MeanBackward0>)\n"
          ]
        },
        {
          "name": "stderr",
          "output_type": "stream",
          "text": [
            "\r",
            " 40%|████      | 20/50 [03:10<04:26,  8.88s/it]"
          ]
        },
        {
          "name": "stdout",
          "output_type": "stream",
          "text": [
            "nelbo:  tensor(100.3667, device='cuda:0', grad_fn=<AddBackward0>) kl:  tensor(18.6043, device='cuda:0', grad_fn=<MeanBackward0>) rec:  tensor(81.7624, device='cuda:0', grad_fn=<MeanBackward0>)\n"
          ]
        },
        {
          "name": "stderr",
          "output_type": "stream",
          "text": [
            "\r",
            " 42%|████▏     | 21/50 [03:19<04:13,  8.72s/it]"
          ]
        },
        {
          "name": "stdout",
          "output_type": "stream",
          "text": [
            "nelbo:  tensor(101.6155, device='cuda:0', grad_fn=<AddBackward0>) kl:  tensor(19.6054, device='cuda:0', grad_fn=<MeanBackward0>) rec:  tensor(82.0101, device='cuda:0', grad_fn=<MeanBackward0>)\n"
          ]
        },
        {
          "name": "stderr",
          "output_type": "stream",
          "text": [
            "\r",
            " 44%|████▍     | 22/50 [03:27<04:01,  8.62s/it]"
          ]
        },
        {
          "name": "stdout",
          "output_type": "stream",
          "text": [
            "nelbo:  tensor(99.2180, device='cuda:0', grad_fn=<AddBackward0>) kl:  tensor(19.1041, device='cuda:0', grad_fn=<MeanBackward0>) rec:  tensor(80.1139, device='cuda:0', grad_fn=<MeanBackward0>)\n"
          ]
        },
        {
          "name": "stderr",
          "output_type": "stream",
          "text": [
            "\r",
            " 46%|████▌     | 23/50 [03:36<03:56,  8.77s/it]"
          ]
        },
        {
          "name": "stdout",
          "output_type": "stream",
          "text": [
            "nelbo:  tensor(101.6636, device='cuda:0', grad_fn=<AddBackward0>) kl:  tensor(18.5991, device='cuda:0', grad_fn=<MeanBackward0>) rec:  tensor(83.0645, device='cuda:0', grad_fn=<MeanBackward0>)\n"
          ]
        },
        {
          "name": "stderr",
          "output_type": "stream",
          "text": [
            "\r",
            " 48%|████▊     | 24/50 [03:45<03:45,  8.66s/it]"
          ]
        },
        {
          "name": "stdout",
          "output_type": "stream",
          "text": [
            "nelbo:  tensor(102.4552, device='cuda:0', grad_fn=<AddBackward0>) kl:  tensor(19.3191, device='cuda:0', grad_fn=<MeanBackward0>) rec:  tensor(83.1361, device='cuda:0', grad_fn=<MeanBackward0>)\n"
          ]
        },
        {
          "name": "stderr",
          "output_type": "stream",
          "text": [
            "\r",
            " 50%|█████     | 25/50 [03:53<03:35,  8.61s/it]"
          ]
        },
        {
          "name": "stdout",
          "output_type": "stream",
          "text": [
            "nelbo:  tensor(99.1751, device='cuda:0', grad_fn=<AddBackward0>) kl:  tensor(19.4611, device='cuda:0', grad_fn=<MeanBackward0>) rec:  tensor(79.7140, device='cuda:0', grad_fn=<MeanBackward0>)\n"
          ]
        },
        {
          "name": "stderr",
          "output_type": "stream",
          "text": [
            "\r",
            " 52%|█████▏    | 26/50 [04:02<03:29,  8.72s/it]"
          ]
        },
        {
          "name": "stdout",
          "output_type": "stream",
          "text": [
            "nelbo:  tensor(100.1763, device='cuda:0', grad_fn=<AddBackward0>) kl:  tensor(18.9952, device='cuda:0', grad_fn=<MeanBackward0>) rec:  tensor(81.1811, device='cuda:0', grad_fn=<MeanBackward0>)\n"
          ]
        },
        {
          "name": "stderr",
          "output_type": "stream",
          "text": [
            "\r",
            " 54%|█████▍    | 27/50 [04:10<03:17,  8.60s/it]"
          ]
        },
        {
          "name": "stdout",
          "output_type": "stream",
          "text": [
            "nelbo:  tensor(100.9213, device='cuda:0', grad_fn=<AddBackward0>) kl:  tensor(18.9297, device='cuda:0', grad_fn=<MeanBackward0>) rec:  tensor(81.9916, device='cuda:0', grad_fn=<MeanBackward0>)\n"
          ]
        },
        {
          "name": "stderr",
          "output_type": "stream",
          "text": [
            "\r",
            " 56%|█████▌    | 28/50 [04:19<03:11,  8.72s/it]"
          ]
        },
        {
          "name": "stdout",
          "output_type": "stream",
          "text": [
            "nelbo:  tensor(97.4958, device='cuda:0', grad_fn=<AddBackward0>) kl:  tensor(19.1696, device='cuda:0', grad_fn=<MeanBackward0>) rec:  tensor(78.3262, device='cuda:0', grad_fn=<MeanBackward0>)\n"
          ]
        },
        {
          "name": "stderr",
          "output_type": "stream",
          "text": [
            "\r",
            " 58%|█████▊    | 29/50 [04:28<03:01,  8.63s/it]"
          ]
        },
        {
          "name": "stdout",
          "output_type": "stream",
          "text": [
            "nelbo:  tensor(102.1323, device='cuda:0', grad_fn=<AddBackward0>) kl:  tensor(19.2003, device='cuda:0', grad_fn=<MeanBackward0>) rec:  tensor(82.9320, device='cuda:0', grad_fn=<MeanBackward0>)\n"
          ]
        },
        {
          "name": "stderr",
          "output_type": "stream",
          "text": [
            "\r",
            " 60%|██████    | 30/50 [04:36<02:51,  8.56s/it]"
          ]
        },
        {
          "name": "stdout",
          "output_type": "stream",
          "text": [
            "nelbo:  tensor(101.0543, device='cuda:0', grad_fn=<AddBackward0>) kl:  tensor(19.5036, device='cuda:0', grad_fn=<MeanBackward0>) rec:  tensor(81.5507, device='cuda:0', grad_fn=<MeanBackward0>)\n"
          ]
        },
        {
          "name": "stderr",
          "output_type": "stream",
          "text": [
            "\r",
            " 62%|██████▏   | 31/50 [04:44<02:41,  8.50s/it]"
          ]
        },
        {
          "name": "stdout",
          "output_type": "stream",
          "text": [
            "nelbo:  tensor(99.5578, device='cuda:0', grad_fn=<AddBackward0>) kl:  tensor(19.6424, device='cuda:0', grad_fn=<MeanBackward0>) rec:  tensor(79.9154, device='cuda:0', grad_fn=<MeanBackward0>)\n"
          ]
        },
        {
          "name": "stderr",
          "output_type": "stream",
          "text": [
            "\r",
            " 64%|██████▍   | 32/50 [04:53<02:32,  8.46s/it]"
          ]
        },
        {
          "name": "stdout",
          "output_type": "stream",
          "text": [
            "nelbo:  tensor(100.0953, device='cuda:0', grad_fn=<AddBackward0>) kl:  tensor(19.6773, device='cuda:0', grad_fn=<MeanBackward0>) rec:  tensor(80.4180, device='cuda:0', grad_fn=<MeanBackward0>)\n"
          ]
        },
        {
          "name": "stderr",
          "output_type": "stream",
          "text": [
            "\r",
            " 66%|██████▌   | 33/50 [05:02<02:26,  8.61s/it]"
          ]
        },
        {
          "name": "stdout",
          "output_type": "stream",
          "text": [
            "nelbo:  tensor(103.6773, device='cuda:0', grad_fn=<AddBackward0>) kl:  tensor(19.5933, device='cuda:0', grad_fn=<MeanBackward0>) rec:  tensor(84.0840, device='cuda:0', grad_fn=<MeanBackward0>)\n"
          ]
        },
        {
          "name": "stderr",
          "output_type": "stream",
          "text": [
            "\r",
            " 68%|██████▊   | 34/50 [05:10<02:16,  8.56s/it]"
          ]
        },
        {
          "name": "stdout",
          "output_type": "stream",
          "text": [
            "nelbo:  tensor(93.6387, device='cuda:0', grad_fn=<AddBackward0>) kl:  tensor(18.9025, device='cuda:0', grad_fn=<MeanBackward0>) rec:  tensor(74.7362, device='cuda:0', grad_fn=<MeanBackward0>)\n"
          ]
        },
        {
          "name": "stderr",
          "output_type": "stream",
          "text": [
            "\r",
            " 70%|███████   | 35/50 [05:19<02:08,  8.54s/it]"
          ]
        },
        {
          "name": "stdout",
          "output_type": "stream",
          "text": [
            "nelbo:  tensor(95.9430, device='cuda:0', grad_fn=<AddBackward0>) kl:  tensor(19.2947, device='cuda:0', grad_fn=<MeanBackward0>) rec:  tensor(76.6483, device='cuda:0', grad_fn=<MeanBackward0>)\n"
          ]
        },
        {
          "name": "stderr",
          "output_type": "stream",
          "text": [
            "\r",
            " 72%|███████▏  | 36/50 [05:27<01:58,  8.48s/it]"
          ]
        },
        {
          "name": "stdout",
          "output_type": "stream",
          "text": [
            "nelbo:  tensor(101.2236, device='cuda:0', grad_fn=<AddBackward0>) kl:  tensor(19.0796, device='cuda:0', grad_fn=<MeanBackward0>) rec:  tensor(82.1440, device='cuda:0', grad_fn=<MeanBackward0>)\n"
          ]
        },
        {
          "name": "stderr",
          "output_type": "stream",
          "text": [
            "\r",
            " 74%|███████▍  | 37/50 [05:35<01:49,  8.45s/it]"
          ]
        },
        {
          "name": "stdout",
          "output_type": "stream",
          "text": [
            "nelbo:  tensor(95.5865, device='cuda:0', grad_fn=<AddBackward0>) kl:  tensor(18.9462, device='cuda:0', grad_fn=<MeanBackward0>) rec:  tensor(76.6402, device='cuda:0', grad_fn=<MeanBackward0>)\n"
          ]
        },
        {
          "name": "stderr",
          "output_type": "stream",
          "text": [
            "\r",
            " 76%|███████▌  | 38/50 [05:44<01:43,  8.58s/it]"
          ]
        },
        {
          "name": "stdout",
          "output_type": "stream",
          "text": [
            "nelbo:  tensor(97.2486, device='cuda:0', grad_fn=<AddBackward0>) kl:  tensor(19.4674, device='cuda:0', grad_fn=<MeanBackward0>) rec:  tensor(77.7812, device='cuda:0', grad_fn=<MeanBackward0>)\n"
          ]
        },
        {
          "name": "stderr",
          "output_type": "stream",
          "text": [
            "\r",
            " 78%|███████▊  | 39/50 [05:53<01:33,  8.51s/it]"
          ]
        },
        {
          "name": "stdout",
          "output_type": "stream",
          "text": [
            "nelbo:  tensor(101.5454, device='cuda:0', grad_fn=<AddBackward0>) kl:  tensor(19.6907, device='cuda:0', grad_fn=<MeanBackward0>) rec:  tensor(81.8548, device='cuda:0', grad_fn=<MeanBackward0>)\n"
          ]
        },
        {
          "name": "stderr",
          "output_type": "stream",
          "text": [
            "\r",
            " 80%|████████  | 40/50 [06:02<01:26,  8.68s/it]"
          ]
        },
        {
          "name": "stdout",
          "output_type": "stream",
          "text": [
            "nelbo:  tensor(98.9906, device='cuda:0', grad_fn=<AddBackward0>) kl:  tensor(20.0937, device='cuda:0', grad_fn=<MeanBackward0>) rec:  tensor(78.8969, device='cuda:0', grad_fn=<MeanBackward0>)\n"
          ]
        },
        {
          "name": "stderr",
          "output_type": "stream",
          "text": [
            "\r",
            " 82%|████████▏ | 41/50 [06:10<01:17,  8.58s/it]"
          ]
        },
        {
          "name": "stdout",
          "output_type": "stream",
          "text": [
            "nelbo:  tensor(100.3811, device='cuda:0', grad_fn=<AddBackward0>) kl:  tensor(19.6131, device='cuda:0', grad_fn=<MeanBackward0>) rec:  tensor(80.7679, device='cuda:0', grad_fn=<MeanBackward0>)\n"
          ]
        },
        {
          "name": "stderr",
          "output_type": "stream",
          "text": [
            "\r",
            " 84%|████████▍ | 42/50 [06:19<01:08,  8.54s/it]"
          ]
        },
        {
          "name": "stdout",
          "output_type": "stream",
          "text": [
            "nelbo:  tensor(98.2162, device='cuda:0', grad_fn=<AddBackward0>) kl:  tensor(19.3981, device='cuda:0', grad_fn=<MeanBackward0>) rec:  tensor(78.8181, device='cuda:0', grad_fn=<MeanBackward0>)\n"
          ]
        },
        {
          "name": "stderr",
          "output_type": "stream",
          "text": [
            "\r",
            " 86%|████████▌ | 43/50 [06:27<01:00,  8.60s/it]"
          ]
        },
        {
          "name": "stdout",
          "output_type": "stream",
          "text": [
            "nelbo:  tensor(102.5365, device='cuda:0', grad_fn=<AddBackward0>) kl:  tensor(19.5273, device='cuda:0', grad_fn=<MeanBackward0>) rec:  tensor(83.0091, device='cuda:0', grad_fn=<MeanBackward0>)\n"
          ]
        },
        {
          "name": "stderr",
          "output_type": "stream",
          "text": [
            "\r",
            " 88%|████████▊ | 44/50 [06:36<00:51,  8.65s/it]"
          ]
        },
        {
          "name": "stdout",
          "output_type": "stream",
          "text": [
            "nelbo:  tensor(94.2416, device='cuda:0', grad_fn=<AddBackward0>) kl:  tensor(19.0925, device='cuda:0', grad_fn=<MeanBackward0>) rec:  tensor(75.1490, device='cuda:0', grad_fn=<MeanBackward0>)\n"
          ]
        },
        {
          "name": "stderr",
          "output_type": "stream",
          "text": [
            "\r",
            " 90%|█████████ | 45/50 [06:44<00:42,  8.55s/it]"
          ]
        },
        {
          "name": "stdout",
          "output_type": "stream",
          "text": [
            "nelbo:  tensor(93.4189, device='cuda:0', grad_fn=<AddBackward0>) kl:  tensor(19.0591, device='cuda:0', grad_fn=<MeanBackward0>) rec:  tensor(74.3598, device='cuda:0', grad_fn=<MeanBackward0>)\n"
          ]
        },
        {
          "name": "stderr",
          "output_type": "stream",
          "text": [
            "\r",
            " 92%|█████████▏| 46/50 [06:53<00:33,  8.49s/it]"
          ]
        },
        {
          "name": "stdout",
          "output_type": "stream",
          "text": [
            "nelbo:  tensor(95.8501, device='cuda:0', grad_fn=<AddBackward0>) kl:  tensor(19.6247, device='cuda:0', grad_fn=<MeanBackward0>) rec:  tensor(76.2254, device='cuda:0', grad_fn=<MeanBackward0>)\n"
          ]
        },
        {
          "name": "stderr",
          "output_type": "stream",
          "text": [
            "\r",
            " 94%|█████████▍| 47/50 [07:01<00:25,  8.46s/it]"
          ]
        },
        {
          "name": "stdout",
          "output_type": "stream",
          "text": [
            "nelbo:  tensor(97.5866, device='cuda:0', grad_fn=<AddBackward0>) kl:  tensor(19.3077, device='cuda:0', grad_fn=<MeanBackward0>) rec:  tensor(78.2789, device='cuda:0', grad_fn=<MeanBackward0>)\n"
          ]
        },
        {
          "name": "stderr",
          "output_type": "stream",
          "text": [
            "\r",
            " 96%|█████████▌| 48/50 [07:09<00:16,  8.40s/it]"
          ]
        },
        {
          "name": "stdout",
          "output_type": "stream",
          "text": [
            "nelbo:  tensor(97.3929, device='cuda:0', grad_fn=<AddBackward0>) kl:  tensor(19.1973, device='cuda:0', grad_fn=<MeanBackward0>) rec:  tensor(78.1955, device='cuda:0', grad_fn=<MeanBackward0>)\n"
          ]
        },
        {
          "name": "stderr",
          "output_type": "stream",
          "text": [
            "\r",
            " 98%|█████████▊| 49/50 [07:18<00:08,  8.58s/it]"
          ]
        },
        {
          "name": "stdout",
          "output_type": "stream",
          "text": [
            "nelbo:  tensor(97.7860, device='cuda:0', grad_fn=<AddBackward0>) kl:  tensor(19.9417, device='cuda:0', grad_fn=<MeanBackward0>) rec:  tensor(77.8442, device='cuda:0', grad_fn=<MeanBackward0>)\n"
          ]
        },
        {
          "name": "stderr",
          "output_type": "stream",
          "text": [
            "100%|██████████| 50/50 [07:27<00:00,  8.95s/it]\n"
          ]
        }
      ],
      "source": [
        "vae = VAE(z_dim=z, y_dim=0, Beta=1).to(device)\n",
        "#Note that since y_dim is 0, so this is VAE.\n",
        "optimizer = optim.Adam(vae.parameters(), lr=learning_rate)\n",
        "nelbo_1=torch.zeros(1,50)\n",
        "kl_1=torch.zeros(1,50)\n",
        "rec_1=torch.zeros(1,50)\n",
        "nelbo_test_1=torch.zeros(1,50)\n",
        "kl_test_1=torch.zeros(1,50)\n",
        "rec_test_1=torch.zeros(1,50)\n",
        "\n",
        "for i in tqdm(range(iter_max)):\n",
        "    for batch_idx, (xu, yu) in enumerate(train_loader):\n",
        "\n",
        "        optimizer.zero_grad()\n",
        "\n",
        "        xu = torch.bernoulli(xu.to(device).reshape(xu.size(0), -1))\n",
        "        yu = yu.new(np.eye(10)[yu]).to(device).float()\n",
        "        loss, summaries = vae.loss(xu)\n",
        "        nelbo_1[0][i]=loss\n",
        "        kl_1[0][i]=summaries['gen/kl_z']\n",
        "        rec_1[0][i]=summaries['gen/rec']\n",
        "        loss.backward()\n",
        "        optimizer.step()\n",
        "\n",
        "    print('nelbo: ', summaries['train/loss'],'kl: ',summaries['gen/kl_z'],'rec: ',summaries['gen/rec'])\n",
        "    with torch.no_grad():\n",
        "      for batch_idx_test, (xu_test, yu_test) in enumerate(test_loader):\n",
        "\n",
        "        optimizer.zero_grad()\n",
        "\n",
        "        xu_test = torch.bernoulli(xu_test.to(device).reshape(xu_test.size(0), -1))\n",
        "        yu_test = yu_test.new(np.eye(10)[yu_test]).to(device).float()\n",
        "        loss_test, summaries_test = vae.loss(xu_test)\n",
        "\n",
        "        nelbo_test_1[0][i]=loss_test\n",
        "        kl_test_1[0][i]=summaries_test['gen/kl_z']\n",
        "        rec_test_1[0][i]=summaries_test['gen/rec']\n",
        ""
      ]
    },
    {
      "cell_type": "code",
      "execution_count": null,
      "metadata": {
        "id": "g_v-iIA4_Nmc"
      },
      "outputs": [],
      "source": [
        "def vae_test():\n",
        "  z=sample_gaussian(torch.zeros(10).cuda(), torch.ones(10).cuda())\n",
        "  logits=vae.dec.decode(z.cuda())\n",
        "\n",
        "  ### seeing the bluring\n",
        "  X_hat=logits\n",
        "\n",
        "  ### not seeing the bluring  ( if you want to generate images in binary erase the hashtag sign(#) at the begning of the below line)\n",
        "  #X_hat=torch.bernoulli(torch.sigmoid(logits))\n",
        "\n",
        "  X_hat=X_hat.reshape(28, 28).to('cpu').detach().numpy()\n",
        "  return X_hat"
      ]
    },
    {
      "cell_type": "markdown",
      "source": [
        "### Keep sampling from VAE until obtaining digits 4, 6 and 8, each of which 3 times."
      ],
      "metadata": {
        "id": "zo5ob-lMA_v4"
      }
    },
    {
      "cell_type": "code",
      "execution_count": null,
      "metadata": {
        "colab": {
          "base_uri": "https://localhost:8080/",
          "height": 282
        },
        "id": "h3K0LCmD2RWD",
        "outputId": "98bbbf44-5617-4a56-b103-870ca032c799"
      },
      "outputs": [
        {
          "data": {
            "text/plain": [
              "<matplotlib.image.AxesImage at 0x7f9555171d30>"
            ]
          },
          "execution_count": 75,
          "metadata": {},
          "output_type": "execute_result"
        },
        {
          "data": {
            "image/png": "[encoded data removed]",
            "text/plain": [
              "<Figure size 432x288 with 1 Axes>"
            ]
          },
          "metadata": {
            "needs_background": "light"
          },
          "output_type": "display_data"
        }
      ],
      "source": [
        "a_4_1=vae.sample_x(1)\n",
        "a_4_1=a_4_1.reshape(28, 28).to('cpu').detach().numpy()\n",
        "plt.imshow(a_4_1)"
      ]
    },
    {
      "cell_type": "code",
      "execution_count": null,
      "metadata": {
        "colab": {
          "base_uri": "https://localhost:8080/",
          "height": 283
        },
        "id": "hFfRJHEu2XoH",
        "outputId": "eb9ccc2c-7d6c-4431-e979-652b1f19dcdd"
      },
      "outputs": [
        {
          "data": {
            "text/plain": [
              "<matplotlib.image.AxesImage at 0x7f2c1f4e5e80>"
            ]
          },
          "execution_count": 46,
          "metadata": {},
          "output_type": "execute_result"
        },
        {
          "data": {
            "image/png": "[encoded data removed]",
            "text/plain": [
              "<Figure size 432x288 with 1 Axes>"
            ]
          },
          "metadata": {
            "needs_background": "light"
          },
          "output_type": "display_data"
        }
      ],
      "source": [
        "a_4_2=vae.sample_x(1)\n",
        "a_4_2=a_4_2.reshape(28, 28).to('cpu').detach().numpy()\n",
        "plt.imshow(a_4_2)"
      ]
    },
    {
      "cell_type": "code",
      "execution_count": null,
      "metadata": {
        "colab": {
          "base_uri": "https://localhost:8080/",
          "height": 283
        },
        "id": "_7Hh7tXY2aYF",
        "outputId": "7f1e0a7e-91a6-4d12-fbec-2780bdcb7a7e"
      },
      "outputs": [
        {
          "data": {
            "text/plain": [
              "<matplotlib.image.AxesImage at 0x7f2c1f1a7d90>"
            ]
          },
          "execution_count": 56,
          "metadata": {},
          "output_type": "execute_result"
        },
        {
          "data": {
            "image/png": "[encoded data removed]",
            "text/plain": [
              "<Figure size 432x288 with 1 Axes>"
            ]
          },
          "metadata": {
            "needs_background": "light"
          },
          "output_type": "display_data"
        }
      ],
      "source": [
        "a_4_3=vae.sample_x(1)\n",
        "a_4_3=a_4_3.reshape(28, 28).to('cpu').detach().numpy()\n",
        "plt.imshow(a_4_3)"
      ]
    },
    {
      "cell_type": "code",
      "execution_count": null,
      "metadata": {
        "colab": {
          "base_uri": "https://localhost:8080/",
          "height": 283
        },
        "id": "57T9qmOv2cla",
        "outputId": "854b568d-313c-405c-83c3-a7c532a081e5"
      },
      "outputs": [
        {
          "data": {
            "text/plain": [
              "<matplotlib.image.AxesImage at 0x7f2c1ee6ee80>"
            ]
          },
          "execution_count": 66,
          "metadata": {},
          "output_type": "execute_result"
        },
        {
          "data": {
            "image/png": "[encoded data removed]",
            "text/plain": [
              "<Figure size 432x288 with 1 Axes>"
            ]
          },
          "metadata": {
            "needs_background": "light"
          },
          "output_type": "display_data"
        }
      ],
      "source": [
        "a_6_1=vae.sample_x(1)\n",
        "a_6_1=a_6_1.reshape(28, 28).to('cpu').detach().numpy()\n",
        "plt.imshow(a_6_1)"
      ]
    },
    {
      "cell_type": "code",
      "execution_count": null,
      "metadata": {
        "colab": {
          "base_uri": "https://localhost:8080/",
          "height": 283
        },
        "id": "1SH2EfAj2dTH",
        "outputId": "1bede7f4-f14f-4175-b901-b49f60924ba9"
      },
      "outputs": [
        {
          "data": {
            "text/plain": [
              "<matplotlib.image.AxesImage at 0x7f2c1edc0c70>"
            ]
          },
          "execution_count": 67,
          "metadata": {},
          "output_type": "execute_result"
        },
        {
          "data": {
            "image/png": "[encoded data removed]",
            "text/plain": [
              "<Figure size 432x288 with 1 Axes>"
            ]
          },
          "metadata": {
            "needs_background": "light"
          },
          "output_type": "display_data"
        }
      ],
      "source": [
        "a_6_2=vae.sample_x(1)\n",
        "a_6_2=a_6_2.reshape(28, 28).to('cpu').detach().numpy()\n",
        "plt.imshow(a_6_2)"
      ]
    },
    {
      "cell_type": "code",
      "execution_count": null,
      "metadata": {
        "colab": {
          "base_uri": "https://localhost:8080/",
          "height": 283
        },
        "id": "BKTct-wZ2fuQ",
        "outputId": "8ef5b479-c05e-4d61-cb5d-2292573d5108"
      },
      "outputs": [
        {
          "data": {
            "text/plain": [
              "<matplotlib.image.AxesImage at 0x7f2c1e315a00>"
            ]
          },
          "execution_count": 101,
          "metadata": {},
          "output_type": "execute_result"
        },
        {
          "data": {
            "image/png": "[encoded data removed]",
            "text/plain": [
              "<Figure size 432x288 with 1 Axes>"
            ]
          },
          "metadata": {
            "needs_background": "light"
          },
          "output_type": "display_data"
        }
      ],
      "source": [
        "a_6_3=vae.sample_x(1)\n",
        "a_6_3=a_6_3.reshape(28, 28).to('cpu').detach().numpy()\n",
        "plt.imshow(a_6_3)"
      ]
    },
    {
      "cell_type": "code",
      "execution_count": null,
      "metadata": {
        "colab": {
          "base_uri": "https://localhost:8080/",
          "height": 283
        },
        "id": "5vsm8nhx2h1P",
        "outputId": "46e58040-9d16-4dca-f9cb-810dbdc492b0"
      },
      "outputs": [
        {
          "data": {
            "text/plain": [
              "<matplotlib.image.AxesImage at 0x7f2c1e2e8790>"
            ]
          },
          "execution_count": 102,
          "metadata": {},
          "output_type": "execute_result"
        },
        {
          "data": {
            "image/png": "[encoded data removed]",
            "text/plain": [
              "<Figure size 432x288 with 1 Axes>"
            ]
          },
          "metadata": {
            "needs_background": "light"
          },
          "output_type": "display_data"
        }
      ],
      "source": [
        "a_8_1=vae.sample_x(1)\n",
        "a_8_1=a_8_1.reshape(28, 28).to('cpu').detach().numpy()\n",
        "plt.imshow(a_8_1)"
      ]
    },
    {
      "cell_type": "code",
      "execution_count": null,
      "metadata": {
        "colab": {
          "base_uri": "https://localhost:8080/",
          "height": 283
        },
        "id": "yPuErmin2jqq",
        "outputId": "3223c76b-b520-4309-b0dd-3610d57be74b"
      },
      "outputs": [
        {
          "data": {
            "text/plain": [
              "<matplotlib.image.AxesImage at 0x7f2c1e20f2e0>"
            ]
          },
          "execution_count": 104,
          "metadata": {},
          "output_type": "execute_result"
        },
        {
          "data": {
            "image/png": "[encoded data removed]",
            "text/plain": [
              "<Figure size 432x288 with 1 Axes>"
            ]
          },
          "metadata": {
            "needs_background": "light"
          },
          "output_type": "display_data"
        }
      ],
      "source": [
        "a_8_2=vae.sample_x(1)\n",
        "a_8_2=a_8_2.reshape(28, 28).to('cpu').detach().numpy()\n",
        "plt.imshow(a_8_2)"
      ]
    },
    {
      "cell_type": "code",
      "execution_count": null,
      "metadata": {
        "colab": {
          "base_uri": "https://localhost:8080/",
          "height": 283
        },
        "id": "M9UnZKhY2l1K",
        "outputId": "ea672ef4-1132-4cf5-b1ac-77ee597e9693"
      },
      "outputs": [
        {
          "data": {
            "text/plain": [
              "<matplotlib.image.AxesImage at 0x7f2c1e1d9070>"
            ]
          },
          "execution_count": 105,
          "metadata": {},
          "output_type": "execute_result"
        },
        {
          "data": {
            "image/png": "[encoded data removed]",
            "text/plain": [
              "<Figure size 432x288 with 1 Axes>"
            ]
          },
          "metadata": {
            "needs_background": "light"
          },
          "output_type": "display_data"
        }
      ],
      "source": [
        "a_8_3=vae.sample_x(1)\n",
        "a_8_3=a_8_3.reshape(28, 28).to('cpu').detach().numpy()\n",
        "plt.imshow(a_8_3)"
      ]
    },
    {
      "cell_type": "code",
      "execution_count": null,
      "metadata": {
        "colab": {
          "base_uri": "https://localhost:8080/",
          "height": 337
        },
        "id": "X5Ww5FIq2qBb",
        "outputId": "1bda39a6-e489-47eb-a8eb-083fa4d96cfb"
      },
      "outputs": [
        {
          "data": {
            "text/plain": [
              "(-0.5, 27.5, 27.5, -0.5)"
            ]
          },
          "execution_count": 121,
          "metadata": {},
          "output_type": "execute_result"
        },
        {
          "data": {
            "image/png": "[encoded data removed]",
            "text/plain": [
              "<Figure size 1080x360 with 18 Axes>"
            ]
          },
          "metadata": {
            "needs_background": "light"
          },
          "output_type": "display_data"
        }
      ],
      "source": [
        "f = plt.figure()\n",
        "f.set_figwidth(15)\n",
        "f.set_figheight(5)\n",
        "\n",
        "\n",
        "plt.subplot(3,7,1)\n",
        "cpred(4)\n",
        "plt.axis('off')\n",
        "plt.subplot(3,7,2)\n",
        "cpred(4)\n",
        "plt.title('Generated Images Using CVAE')\n",
        "plt.axis('off')\n",
        "plt.subplot(3,7,3)\n",
        "cpred(4)\n",
        "plt.axis('off')\n",
        "plt.subplot(3,7,8)\n",
        "cpred(6)\n",
        "plt.axis('off')\n",
        "plt.subplot(3,7,9)\n",
        "cpred(6)\n",
        "plt.axis('off')\n",
        "plt.subplot(3,7,10)\n",
        "cpred(6)\n",
        "plt.axis('off')\n",
        "plt.subplot(3,7,15)\n",
        "cpred(8)\n",
        "plt.axis('off')\n",
        "plt.subplot(3,7,16)\n",
        "cpred(8)\n",
        "plt.axis('off')\n",
        "plt.subplot(3,7,17)\n",
        "cpred(8)\n",
        "plt.axis('off')\n",
        "\n",
        "plt.subplot(3,7,5)\n",
        "plt.imshow(a_4_1)\n",
        "plt.axis('off')\n",
        "plt.subplot(3,7,6)\n",
        "plt.imshow(a_4_2)\n",
        "plt.title('Generated Images Using VAE')\n",
        "plt.axis('off')\n",
        "plt.subplot(3,7,7)\n",
        "plt.imshow(a_4_3)\n",
        "plt.axis('off')\n",
        "plt.subplot(3,7,12)\n",
        "plt.imshow(a_6_1)\n",
        "plt.axis('off')\n",
        "plt.subplot(3,7,13)\n",
        "plt.imshow(a_6_2)\n",
        "plt.axis('off')\n",
        "plt.subplot(3,7,14)\n",
        "plt.imshow(a_6_3)\n",
        "plt.axis('off')\n",
        "plt.subplot(3,7,19)\n",
        "plt.imshow(a_8_1)\n",
        "plt.axis('off')\n",
        "plt.subplot(3,7,20)\n",
        "plt.imshow(a_8_2)\n",
        "plt.axis('off')\n",
        "plt.subplot(3,7,21)\n",
        "plt.imshow(a_8_3)\n",
        "plt.axis('off')"
      ]
    },
    {
      "cell_type": "markdown",
      "source": [
        "# With Bluring(without sigmoid and bernoulli function)"
      ],
      "metadata": {
        "id": "iJg3owABAiXR"
      }
    },
    {
      "cell_type": "markdown",
      "source": [
        "###Keep sampling from VAE until obtaining digits 4, 6 and 8, each of which 3 times."
      ],
      "metadata": {
        "id": "3ggjBWMsBkuj"
      }
    },
    {
      "cell_type": "code",
      "execution_count": null,
      "metadata": {
        "colab": {
          "base_uri": "https://localhost:8080/",
          "height": 282
        },
        "id": "xj4MfSzeKJjZ",
        "outputId": "5338b099-5ad8-4545-d917-85c31ffba93a"
      },
      "outputs": [
        {
          "data": {
            "text/plain": [
              "<matplotlib.image.AxesImage at 0x7f954f56db50>"
            ]
          },
          "execution_count": 563,
          "metadata": {},
          "output_type": "execute_result"
        },
        {
          "data": {
            "image/png": "[encoded data removed]",
            "text/plain": [
              "<Figure size 432x288 with 1 Axes>"
            ]
          },
          "metadata": {
            "needs_background": "light"
          },
          "output_type": "display_data"
        }
      ],
      "source": [
        "a_4_1=vae_test()\n",
        "plt.imshow(a_4_1)"
      ]
    },
    {
      "cell_type": "code",
      "execution_count": null,
      "metadata": {
        "colab": {
          "base_uri": "https://localhost:8080/",
          "height": 282
        },
        "id": "pjXY8VYQKZuc",
        "outputId": "1ae5b866-26db-4fd5-f3dc-a92311805d03"
      },
      "outputs": [
        {
          "data": {
            "text/plain": [
              "<matplotlib.image.AxesImage at 0x7f95c01eecd0>"
            ]
          },
          "execution_count": 313,
          "metadata": {},
          "output_type": "execute_result"
        },
        {
          "data": {
            "image/png": "[encoded data removed]",
            "text/plain": [
              "<Figure size 432x288 with 1 Axes>"
            ]
          },
          "metadata": {
            "needs_background": "light"
          },
          "output_type": "display_data"
        }
      ],
      "source": [
        "a_4_2=vae_test()\n",
        "plt.imshow(a_4_2)"
      ]
    },
    {
      "cell_type": "code",
      "execution_count": null,
      "metadata": {
        "colab": {
          "base_uri": "https://localhost:8080/",
          "height": 282
        },
        "id": "ahUGKk8cKdya",
        "outputId": "12b7e06d-d489-42b3-eca5-62bdff2e0d4f"
      },
      "outputs": [
        {
          "data": {
            "text/plain": [
              "<matplotlib.image.AxesImage at 0x7f9553f953a0>"
            ]
          },
          "execution_count": 335,
          "metadata": {},
          "output_type": "execute_result"
        },
        {
          "data": {
            "image/png": "[encoded data removed]",
            "text/plain": [
              "<Figure size 432x288 with 1 Axes>"
            ]
          },
          "metadata": {
            "needs_background": "light"
          },
          "output_type": "display_data"
        }
      ],
      "source": [
        "a_4_3=vae_test()\n",
        "plt.imshow(a_4_3)"
      ]
    },
    {
      "cell_type": "code",
      "execution_count": null,
      "metadata": {
        "colab": {
          "base_uri": "https://localhost:8080/",
          "height": 282
        },
        "id": "ch-1EQSVKkyB",
        "outputId": "8a5fea0b-78e9-42d8-c98f-5c5d4019db7d"
      },
      "outputs": [
        {
          "data": {
            "text/plain": [
              "<matplotlib.image.AxesImage at 0x7f95534d7070>"
            ]
          },
          "execution_count": 369,
          "metadata": {},
          "output_type": "execute_result"
        },
        {
          "data": {
            "image/png": "[encoded data removed]",
            "text/plain": [
              "<Figure size 432x288 with 1 Axes>"
            ]
          },
          "metadata": {
            "needs_background": "light"
          },
          "output_type": "display_data"
        }
      ],
      "source": [
        "a_6_1=vae_test()\n",
        "plt.imshow(a_6_1)"
      ]
    },
    {
      "cell_type": "code",
      "execution_count": null,
      "metadata": {
        "colab": {
          "base_uri": "https://localhost:8080/",
          "height": 282
        },
        "id": "4fWsF4V_WolH",
        "outputId": "fc033a35-0443-40e2-83de-25bb56f2a0fe"
      },
      "outputs": [
        {
          "data": {
            "text/plain": [
              "<matplotlib.image.AxesImage at 0x7f95500cd820>"
            ]
          },
          "execution_count": 531,
          "metadata": {},
          "output_type": "execute_result"
        },
        {
          "data": {
            "image/png": "[encoded data removed]",
            "text/plain": [
              "<Figure size 432x288 with 1 Axes>"
            ]
          },
          "metadata": {
            "needs_background": "light"
          },
          "output_type": "display_data"
        }
      ],
      "source": [
        "a_6_2=vae_test()\n",
        "plt.imshow(a_6_2)"
      ]
    },
    {
      "cell_type": "code",
      "execution_count": null,
      "metadata": {
        "colab": {
          "base_uri": "https://localhost:8080/",
          "height": 282
        },
        "id": "U-aAHPfWMenu",
        "outputId": "b8b6351f-62a8-4300-8e4a-795cd5352f87"
      },
      "outputs": [
        {
          "data": {
            "text/plain": [
              "<matplotlib.image.AxesImage at 0x7f9551f68ee0>"
            ]
          },
          "execution_count": 438,
          "metadata": {},
          "output_type": "execute_result"
        },
        {
          "data": {
            "image/png": "[encoded data removed]",
            "text/plain": [
              "<Figure size 432x288 with 1 Axes>"
            ]
          },
          "metadata": {
            "needs_background": "light"
          },
          "output_type": "display_data"
        }
      ],
      "source": [
        "a_6_3=vae_test()\n",
        "plt.imshow(a_6_3)"
      ]
    },
    {
      "cell_type": "code",
      "execution_count": null,
      "metadata": {
        "colab": {
          "base_uri": "https://localhost:8080/",
          "height": 282
        },
        "id": "4s1VRsMgMxpk",
        "outputId": "0ffac974-d7a5-4e09-bdc0-dd310004a2c7"
      },
      "outputs": [
        {
          "data": {
            "text/plain": [
              "<matplotlib.image.AxesImage at 0x7f9551468040>"
            ]
          },
          "execution_count": 476,
          "metadata": {},
          "output_type": "execute_result"
        },
        {
          "data": {
            "image/png": "[encoded data removed]",
            "text/plain": [
              "<Figure size 432x288 with 1 Axes>"
            ]
          },
          "metadata": {
            "needs_background": "light"
          },
          "output_type": "display_data"
        }
      ],
      "source": [
        "a_8_1=vae_test()\n",
        "plt.imshow(a_8_1)"
      ]
    },
    {
      "cell_type": "code",
      "execution_count": null,
      "metadata": {
        "colab": {
          "base_uri": "https://localhost:8080/",
          "height": 282
        },
        "id": "eFpP9Dc5M2qM",
        "outputId": "945b58f1-611c-49c2-9e12-97584352369a"
      },
      "outputs": [
        {
          "data": {
            "text/plain": [
              "<matplotlib.image.AxesImage at 0x7f95517e3fa0>"
            ]
          },
          "execution_count": 462,
          "metadata": {},
          "output_type": "execute_result"
        },
        {
          "data": {
            "image/png": "[encoded data removed]",
            "text/plain": [
              "<Figure size 432x288 with 1 Axes>"
            ]
          },
          "metadata": {
            "needs_background": "light"
          },
          "output_type": "display_data"
        }
      ],
      "source": [
        "a_8_2=vae_test()\n",
        "plt.imshow(a_8_2)"
      ]
    },
    {
      "cell_type": "code",
      "execution_count": null,
      "metadata": {
        "colab": {
          "base_uri": "https://localhost:8080/",
          "height": 282
        },
        "id": "qMo60y0NM-eX",
        "outputId": "a7e0a41f-2375-4150-d784-d6a0d20a46db"
      },
      "outputs": [
        {
          "data": {
            "text/plain": [
              "<matplotlib.image.AxesImage at 0x7f9550644130>"
            ]
          },
          "execution_count": 513,
          "metadata": {},
          "output_type": "execute_result"
        },
        {
          "data": {
            "image/png": "[encoded data removed]",
            "text/plain": [
              "<Figure size 432x288 with 1 Axes>"
            ]
          },
          "metadata": {
            "needs_background": "light"
          },
          "output_type": "display_data"
        }
      ],
      "source": [
        "a_8_3=vae_test()\n",
        "plt.imshow(a_8_3)"
      ]
    },
    {
      "cell_type": "code",
      "execution_count": null,
      "metadata": {
        "colab": {
          "base_uri": "https://localhost:8080/",
          "height": 336
        },
        "id": "KZi7YOgZJ2Yr",
        "outputId": "ec56cea6-c91c-4c98-f524-7ee00312dbca"
      },
      "outputs": [
        {
          "data": {
            "text/plain": [
              "(-0.5, 27.5, 27.5, -0.5)"
            ]
          },
          "execution_count": 564,
          "metadata": {},
          "output_type": "execute_result"
        },
        {
          "data": {
            "image/png": "[encoded data removed]",
            "text/plain": [
              "<Figure size 1080x360 with 18 Axes>"
            ]
          },
          "metadata": {
            "needs_background": "light"
          },
          "output_type": "display_data"
        }
      ],
      "source": [
        "f = plt.figure()\n",
        "f.set_figwidth(15)\n",
        "f.set_figheight(5)\n",
        "\n",
        "\n",
        "plt.subplot(3,7,1)\n",
        "cpred(4)\n",
        "plt.axis('off')\n",
        "plt.subplot(3,7,2)\n",
        "cpred(4)\n",
        "plt.title('Generated Images Using CVAE')\n",
        "plt.axis('off')\n",
        "plt.subplot(3,7,3)\n",
        "cpred(4)\n",
        "plt.axis('off')\n",
        "plt.subplot(3,7,8)\n",
        "cpred(6)\n",
        "plt.axis('off')\n",
        "plt.subplot(3,7,9)\n",
        "cpred(6)\n",
        "plt.axis('off')\n",
        "plt.subplot(3,7,10)\n",
        "cpred(6)\n",
        "plt.axis('off')\n",
        "plt.subplot(3,7,15)\n",
        "cpred(8)\n",
        "plt.axis('off')\n",
        "plt.subplot(3,7,16)\n",
        "cpred(8)\n",
        "plt.axis('off')\n",
        "plt.subplot(3,7,17)\n",
        "cpred(8)\n",
        "plt.axis('off')\n",
        "\n",
        "plt.subplot(3,7,5)\n",
        "plt.imshow(a_4_1)\n",
        "plt.axis('off')\n",
        "plt.subplot(3,7,6)\n",
        "plt.imshow(a_4_2)\n",
        "plt.title('Generated Images Using VAE')\n",
        "plt.axis('off')\n",
        "plt.subplot(3,7,7)\n",
        "plt.imshow(a_4_3)\n",
        "plt.axis('off')\n",
        "plt.subplot(3,7,12)\n",
        "plt.imshow(a_6_1)\n",
        "plt.axis('off')\n",
        "plt.subplot(3,7,13)\n",
        "plt.imshow(a_6_2)\n",
        "plt.axis('off')\n",
        "plt.subplot(3,7,14)\n",
        "plt.imshow(a_6_3)\n",
        "plt.axis('off')\n",
        "plt.subplot(3,7,19)\n",
        "plt.imshow(a_8_1)\n",
        "plt.axis('off')\n",
        "plt.subplot(3,7,20)\n",
        "plt.imshow(a_8_2)\n",
        "plt.axis('off')\n",
        "plt.subplot(3,7,21)\n",
        "plt.imshow(a_8_3)\n",
        "plt.axis('off')"
      ]
    }
  ],
  "metadata": {
    "accelerator": "GPU",
    "colab": {
      "provenance": []
    },
    "gpuClass": "standard",
    "kernelspec": {
      "display_name": "Python 3 (ipykernel)",
      "language": "python",
      "name": "python3"
    },
    "language_info": {
      "codemirror_mode": {
        "name": "ipython",
        "version": 3
      },
      "file_extension": ".py",
      "mimetype": "text/x-python",
      "name": "python",
      "nbconvert_exporter": "python",
      "pygments_lexer": "ipython3",
      "version": "3.9.12"
    },
    "widgets": {
      "application/vnd.jupyter.widget-state+json": {
        "09aa19666b734cd0a5f6eeb965fbafeb": {
          "model_module": "@jupyter-widgets/base",
          "model_module_version": "1.2.0",
          "model_name": "LayoutModel",
          "state": {
            "_model_module": "@jupyter-widgets/base",
            "_model_module_version": "1.2.0",
            "_model_name": "LayoutModel",
            "_view_count": null,
            "_view_module": "@jupyter-widgets/base",
            "_view_module_version": "1.2.0",
            "_view_name": "LayoutView",
            "align_content": null,
            "align_items": null,
            "align_self": null,
            "border": null,
            "bottom": null,
            "display": null,
            "flex": null,
            "flex_flow": null,
            "grid_area": null,
            "grid_auto_columns": null,
            "grid_auto_flow": null,
            "grid_auto_rows": null,
            "grid_column": null,
            "grid_gap": null,
            "grid_row": null,
            "grid_template_areas": null,
            "grid_template_columns": null,
            "grid_template_rows": null,
            "height": null,
            "justify_content": null,
            "justify_items": null,
            "left": null,
            "margin": null,
            "max_height": null,
            "max_width": null,
            "min_height": null,
            "min_width": null,
            "object_fit": null,
            "object_position": null,
            "order": null,
            "overflow": null,
            "overflow_x": null,
            "overflow_y": null,
            "padding": null,
            "right": null,
            "top": null,
            "visibility": null,
            "width": null
          }
        },
        "11abc884c1f841afb0243ffc2c3162db": {
          "model_module": "@jupyter-widgets/controls",
          "model_module_version": "1.5.0",
          "model_name": "DescriptionStyleModel",
          "state": {
            "_model_module": "@jupyter-widgets/controls",
            "_model_module_version": "1.5.0",
            "_model_name": "DescriptionStyleModel",
            "_view_count": null,
            "_view_module": "@jupyter-widgets/base",
            "_view_module_version": "1.2.0",
            "_view_name": "StyleView",
            "description_width": ""
          }
        },
        "152ce8e589084c4997e476d73608ef2e": {
          "model_module": "@jupyter-widgets/controls",
          "model_module_version": "1.5.0",
          "model_name": "ProgressStyleModel",
          "state": {
            "_model_module": "@jupyter-widgets/controls",
            "_model_module_version": "1.5.0",
            "_model_name": "ProgressStyleModel",
            "_view_count": null,
            "_view_module": "@jupyter-widgets/base",
            "_view_module_version": "1.2.0",
            "_view_name": "StyleView",
            "bar_color": null,
            "description_width": ""
          }
        },
        "193cf83169e0497bbfef41988b78e8d4": {
          "model_module": "@jupyter-widgets/controls",
          "model_module_version": "1.5.0",
          "model_name": "DescriptionStyleModel",
          "state": {
            "_model_module": "@jupyter-widgets/controls",
            "_model_module_version": "1.5.0",
            "_model_name": "DescriptionStyleModel",
            "_view_count": null,
            "_view_module": "@jupyter-widgets/base",
            "_view_module_version": "1.2.0",
            "_view_name": "StyleView",
            "description_width": ""
          }
        },
        "1dd1c57b7f914efcb97608bd91f1d0b2": {
          "model_module": "@jupyter-widgets/controls",
          "model_module_version": "1.5.0",
          "model_name": "HTMLModel",
          "state": {
            "_dom_classes": [],
            "_model_module": "@jupyter-widgets/controls",
            "_model_module_version": "1.5.0",
            "_model_name": "HTMLModel",
            "_view_count": null,
            "_view_module": "@jupyter-widgets/controls",
            "_view_module_version": "1.5.0",
            "_view_name": "HTMLView",
            "description": "",
            "description_tooltip": null,
            "layout": "IPY_MODEL_09aa19666b734cd0a5f6eeb965fbafeb",
            "placeholder": "​",
            "style": "IPY_MODEL_99e074d4d6f745478cbb0e9b5f187427",
            "value": "100%"
          }
        },
        "489b676aa6c04d9b9d73e420acea1248": {
          "model_module": "@jupyter-widgets/controls",
          "model_module_version": "1.5.0",
          "model_name": "DescriptionStyleModel",
          "state": {
            "_model_module": "@jupyter-widgets/controls",
            "_model_module_version": "1.5.0",
            "_model_name": "DescriptionStyleModel",
            "_view_count": null,
            "_view_module": "@jupyter-widgets/base",
            "_view_module_version": "1.2.0",
            "_view_name": "StyleView",
            "description_width": ""
          }
        },
        "4960af8850b6403bb28aa32c3f6a4f42": {
          "model_module": "@jupyter-widgets/controls",
          "model_module_version": "1.5.0",
          "model_name": "ProgressStyleModel",
          "state": {
            "_model_module": "@jupyter-widgets/controls",
            "_model_module_version": "1.5.0",
            "_model_name": "ProgressStyleModel",
            "_view_count": null,
            "_view_module": "@jupyter-widgets/base",
            "_view_module_version": "1.2.0",
            "_view_name": "StyleView",
            "bar_color": null,
            "description_width": ""
          }
        },
        "53bb7301712d46bca9e7b3a3d8464b49": {
          "model_module": "@jupyter-widgets/controls",
          "model_module_version": "1.5.0",
          "model_name": "HBoxModel",
          "state": {
            "_dom_classes": [],
            "_model_module": "@jupyter-widgets/controls",
            "_model_module_version": "1.5.0",
            "_model_name": "HBoxModel",
            "_view_count": null,
            "_view_module": "@jupyter-widgets/controls",
            "_view_module_version": "1.5.0",
            "_view_name": "HBoxView",
            "box_style": "",
            "children": [
              "IPY_MODEL_1dd1c57b7f914efcb97608bd91f1d0b2",
              "IPY_MODEL_a406eddf4a4d468a85e3e254348e6f5e",
              "IPY_MODEL_e70d726f28b24e819e47afd869367364"
            ],
            "layout": "IPY_MODEL_6b9025a897544969a53006edd8bc49f0"
          }
        },
        "56d50f6a9035461fb737cba37ed9d4e6": {
          "model_module": "@jupyter-widgets/controls",
          "model_module_version": "1.5.0",
          "model_name": "HBoxModel",
          "state": {
            "_dom_classes": [],
            "_model_module": "@jupyter-widgets/controls",
            "_model_module_version": "1.5.0",
            "_model_name": "HBoxModel",
            "_view_count": null,
            "_view_module": "@jupyter-widgets/controls",
            "_view_module_version": "1.5.0",
            "_view_name": "HBoxView",
            "box_style": "",
            "children": [
              "IPY_MODEL_80d21265199f45e28515cc78ec4e1edc",
              "IPY_MODEL_89493e0966db445d8dd69a98f7682310",
              "IPY_MODEL_91b02510dee54461aabdccd15f683f11"
            ],
            "layout": "IPY_MODEL_edfca8f49fd34618967e2aa193d717c0"
          }
        },
        "6b9025a897544969a53006edd8bc49f0": {
          "model_module": "@jupyter-widgets/base",
          "model_module_version": "1.2.0",
          "model_name": "LayoutModel",
          "state": {
            "_model_module": "@jupyter-widgets/base",
            "_model_module_version": "1.2.0",
            "_model_name": "LayoutModel",
            "_view_count": null,
            "_view_module": "@jupyter-widgets/base",
            "_view_module_version": "1.2.0",
            "_view_name": "LayoutView",
            "align_content": null,
            "align_items": null,
            "align_self": null,
            "border": null,
            "bottom": null,
            "display": null,
            "flex": null,
            "flex_flow": null,
            "grid_area": null,
            "grid_auto_columns": null,
            "grid_auto_flow": null,
            "grid_auto_rows": null,
            "grid_column": null,
            "grid_gap": null,
            "grid_row": null,
            "grid_template_areas": null,
            "grid_template_columns": null,
            "grid_template_rows": null,
            "height": null,
            "justify_content": null,
            "justify_items": null,
            "left": null,
            "margin": null,
            "max_height": null,
            "max_width": null,
            "min_height": null,
            "min_width": null,
            "object_fit": null,
            "object_position": null,
            "order": null,
            "overflow": null,
            "overflow_x": null,
            "overflow_y": null,
            "padding": null,
            "right": null,
            "top": null,
            "visibility": null,
            "width": null
          }
        },
        "6c9d3ff9614144ea9eb16cc479084935": {
          "model_module": "@jupyter-widgets/base",
          "model_module_version": "1.2.0",
          "model_name": "LayoutModel",
          "state": {
            "_model_module": "@jupyter-widgets/base",
            "_model_module_version": "1.2.0",
            "_model_name": "LayoutModel",
            "_view_count": null,
            "_view_module": "@jupyter-widgets/base",
            "_view_module_version": "1.2.0",
            "_view_name": "LayoutView",
            "align_content": null,
            "align_items": null,
            "align_self": null,
            "border": null,
            "bottom": null,
            "display": null,
            "flex": null,
            "flex_flow": null,
            "grid_area": null,
            "grid_auto_columns": null,
            "grid_auto_flow": null,
            "grid_auto_rows": null,
            "grid_column": null,
            "grid_gap": null,
            "grid_row": null,
            "grid_template_areas": null,
            "grid_template_columns": null,
            "grid_template_rows": null,
            "height": null,
            "justify_content": null,
            "justify_items": null,
            "left": null,
            "margin": null,
            "max_height": null,
            "max_width": null,
            "min_height": null,
            "min_width": null,
            "object_fit": null,
            "object_position": null,
            "order": null,
            "overflow": null,
            "overflow_x": null,
            "overflow_y": null,
            "padding": null,
            "right": null,
            "top": null,
            "visibility": null,
            "width": null
          }
        },
        "8096bedc61c0437ea3548a8c03da4c72": {
          "model_module": "@jupyter-widgets/base",
          "model_module_version": "1.2.0",
          "model_name": "LayoutModel",
          "state": {
            "_model_module": "@jupyter-widgets/base",
            "_model_module_version": "1.2.0",
            "_model_name": "LayoutModel",
            "_view_count": null,
            "_view_module": "@jupyter-widgets/base",
            "_view_module_version": "1.2.0",
            "_view_name": "LayoutView",
            "align_content": null,
            "align_items": null,
            "align_self": null,
            "border": null,
            "bottom": null,
            "display": null,
            "flex": null,
            "flex_flow": null,
            "grid_area": null,
            "grid_auto_columns": null,
            "grid_auto_flow": null,
            "grid_auto_rows": null,
            "grid_column": null,
            "grid_gap": null,
            "grid_row": null,
            "grid_template_areas": null,
            "grid_template_columns": null,
            "grid_template_rows": null,
            "height": null,
            "justify_content": null,
            "justify_items": null,
            "left": null,
            "margin": null,
            "max_height": null,
            "max_width": null,
            "min_height": null,
            "min_width": null,
            "object_fit": null,
            "object_position": null,
            "order": null,
            "overflow": null,
            "overflow_x": null,
            "overflow_y": null,
            "padding": null,
            "right": null,
            "top": null,
            "visibility": null,
            "width": null
          }
        },
        "80d21265199f45e28515cc78ec4e1edc": {
          "model_module": "@jupyter-widgets/controls",
          "model_module_version": "1.5.0",
          "model_name": "HTMLModel",
          "state": {
            "_dom_classes": [],
            "_model_module": "@jupyter-widgets/controls",
            "_model_module_version": "1.5.0",
            "_model_name": "HTMLModel",
            "_view_count": null,
            "_view_module": "@jupyter-widgets/controls",
            "_view_module_version": "1.5.0",
            "_view_name": "HTMLView",
            "description": "",
            "description_tooltip": null,
            "layout": "IPY_MODEL_929f6201b08d41d99f7b9ccc9447153e",
            "placeholder": "​",
            "style": "IPY_MODEL_193cf83169e0497bbfef41988b78e8d4",
            "value": "100%"
          }
        },
        "89493e0966db445d8dd69a98f7682310": {
          "model_module": "@jupyter-widgets/controls",
          "model_module_version": "1.5.0",
          "model_name": "FloatProgressModel",
          "state": {
            "_dom_classes": [],
            "_model_module": "@jupyter-widgets/controls",
            "_model_module_version": "1.5.0",
            "_model_name": "FloatProgressModel",
            "_view_count": null,
            "_view_module": "@jupyter-widgets/controls",
            "_view_module_version": "1.5.0",
            "_view_name": "ProgressView",
            "bar_style": "success",
            "description": "",
            "description_tooltip": null,
            "layout": "IPY_MODEL_c3cff6a0427044ccbe2e1d15fba62a8c",
            "max": 1648877,
            "min": 0,
            "orientation": "horizontal",
            "style": "IPY_MODEL_152ce8e589084c4997e476d73608ef2e",
            "value": 1648877
          }
        },
        "89700ad0d3704bd087ca292252502c7b": {
          "model_module": "@jupyter-widgets/base",
          "model_module_version": "1.2.0",
          "model_name": "LayoutModel",
          "state": {
            "_model_module": "@jupyter-widgets/base",
            "_model_module_version": "1.2.0",
            "_model_name": "LayoutModel",
            "_view_count": null,
            "_view_module": "@jupyter-widgets/base",
            "_view_module_version": "1.2.0",
            "_view_name": "LayoutView",
            "align_content": null,
            "align_items": null,
            "align_self": null,
            "border": null,
            "bottom": null,
            "display": null,
            "flex": null,
            "flex_flow": null,
            "grid_area": null,
            "grid_auto_columns": null,
            "grid_auto_flow": null,
            "grid_auto_rows": null,
            "grid_column": null,
            "grid_gap": null,
            "grid_row": null,
            "grid_template_areas": null,
            "grid_template_columns": null,
            "grid_template_rows": null,
            "height": null,
            "justify_content": null,
            "justify_items": null,
            "left": null,
            "margin": null,
            "max_height": null,
            "max_width": null,
            "min_height": null,
            "min_width": null,
            "object_fit": null,
            "object_position": null,
            "order": null,
            "overflow": null,
            "overflow_x": null,
            "overflow_y": null,
            "padding": null,
            "right": null,
            "top": null,
            "visibility": null,
            "width": null
          }
        },
        "8ea4c3f8bf284517873a20ba9273cbbe": {
          "model_module": "@jupyter-widgets/base",
          "model_module_version": "1.2.0",
          "model_name": "LayoutModel",
          "state": {
            "_model_module": "@jupyter-widgets/base",
            "_model_module_version": "1.2.0",
            "_model_name": "LayoutModel",
            "_view_count": null,
            "_view_module": "@jupyter-widgets/base",
            "_view_module_version": "1.2.0",
            "_view_name": "LayoutView",
            "align_content": null,
            "align_items": null,
            "align_self": null,
            "border": null,
            "bottom": null,
            "display": null,
            "flex": null,
            "flex_flow": null,
            "grid_area": null,
            "grid_auto_columns": null,
            "grid_auto_flow": null,
            "grid_auto_rows": null,
            "grid_column": null,
            "grid_gap": null,
            "grid_row": null,
            "grid_template_areas": null,
            "grid_template_columns": null,
            "grid_template_rows": null,
            "height": null,
            "justify_content": null,
            "justify_items": null,
            "left": null,
            "margin": null,
            "max_height": null,
            "max_width": null,
            "min_height": null,
            "min_width": null,
            "object_fit": null,
            "object_position": null,
            "order": null,
            "overflow": null,
            "overflow_x": null,
            "overflow_y": null,
            "padding": null,
            "right": null,
            "top": null,
            "visibility": null,
            "width": null
          }
        },
        "91b02510dee54461aabdccd15f683f11": {
          "model_module": "@jupyter-widgets/controls",
          "model_module_version": "1.5.0",
          "model_name": "HTMLModel",
          "state": {
            "_dom_classes": [],
            "_model_module": "@jupyter-widgets/controls",
            "_model_module_version": "1.5.0",
            "_model_name": "HTMLModel",
            "_view_count": null,
            "_view_module": "@jupyter-widgets/controls",
            "_view_module_version": "1.5.0",
            "_view_name": "HTMLView",
            "description": "",
            "description_tooltip": null,
            "layout": "IPY_MODEL_fc739f36855143fcbdb6c27085b6b69b",
            "placeholder": "​",
            "style": "IPY_MODEL_c8dc31db52fa4c2989de1d05a3e59e9e",
            "value": " 1648877/1648877 [00:00&lt;00:00, 40673579.38it/s]"
          }
        },
        "929f6201b08d41d99f7b9ccc9447153e": {
          "model_module": "@jupyter-widgets/base",
          "model_module_version": "1.2.0",
          "model_name": "LayoutModel",
          "state": {
            "_model_module": "@jupyter-widgets/base",
            "_model_module_version": "1.2.0",
            "_model_name": "LayoutModel",
            "_view_count": null,
            "_view_module": "@jupyter-widgets/base",
            "_view_module_version": "1.2.0",
            "_view_name": "LayoutView",
            "align_content": null,
            "align_items": null,
            "align_self": null,
            "border": null,
            "bottom": null,
            "display": null,
            "flex": null,
            "flex_flow": null,
            "grid_area": null,
            "grid_auto_columns": null,
            "grid_auto_flow": null,
            "grid_auto_rows": null,
            "grid_column": null,
            "grid_gap": null,
            "grid_row": null,
            "grid_template_areas": null,
            "grid_template_columns": null,
            "grid_template_rows": null,
            "height": null,
            "justify_content": null,
            "justify_items": null,
            "left": null,
            "margin": null,
            "max_height": null,
            "max_width": null,
            "min_height": null,
            "min_width": null,
            "object_fit": null,
            "object_position": null,
            "order": null,
            "overflow": null,
            "overflow_x": null,
            "overflow_y": null,
            "padding": null,
            "right": null,
            "top": null,
            "visibility": null,
            "width": null
          }
        },
        "934886c1fcd14d918ac959cd85be64f6": {
          "model_module": "@jupyter-widgets/base",
          "model_module_version": "1.2.0",
          "model_name": "LayoutModel",
          "state": {
            "_model_module": "@jupyter-widgets/base",
            "_model_module_version": "1.2.0",
            "_model_name": "LayoutModel",
            "_view_count": null,
            "_view_module": "@jupyter-widgets/base",
            "_view_module_version": "1.2.0",
            "_view_name": "LayoutView",
            "align_content": null,
            "align_items": null,
            "align_self": null,
            "border": null,
            "bottom": null,
            "display": null,
            "flex": null,
            "flex_flow": null,
            "grid_area": null,
            "grid_auto_columns": null,
            "grid_auto_flow": null,
            "grid_auto_rows": null,
            "grid_column": null,
            "grid_gap": null,
            "grid_row": null,
            "grid_template_areas": null,
            "grid_template_columns": null,
            "grid_template_rows": null,
            "height": null,
            "justify_content": null,
            "justify_items": null,
            "left": null,
            "margin": null,
            "max_height": null,
            "max_width": null,
            "min_height": null,
            "min_width": null,
            "object_fit": null,
            "object_position": null,
            "order": null,
            "overflow": null,
            "overflow_x": null,
            "overflow_y": null,
            "padding": null,
            "right": null,
            "top": null,
            "visibility": null,
            "width": null
          }
        },
        "99e074d4d6f745478cbb0e9b5f187427": {
          "model_module": "@jupyter-widgets/controls",
          "model_module_version": "1.5.0",
          "model_name": "DescriptionStyleModel",
          "state": {
            "_model_module": "@jupyter-widgets/controls",
            "_model_module_version": "1.5.0",
            "_model_name": "DescriptionStyleModel",
            "_view_count": null,
            "_view_module": "@jupyter-widgets/base",
            "_view_module_version": "1.2.0",
            "_view_name": "StyleView",
            "description_width": ""
          }
        },
        "a406eddf4a4d468a85e3e254348e6f5e": {
          "model_module": "@jupyter-widgets/controls",
          "model_module_version": "1.5.0",
          "model_name": "FloatProgressModel",
          "state": {
            "_dom_classes": [],
            "_model_module": "@jupyter-widgets/controls",
            "_model_module_version": "1.5.0",
            "_model_name": "FloatProgressModel",
            "_view_count": null,
            "_view_module": "@jupyter-widgets/controls",
            "_view_module_version": "1.5.0",
            "_view_name": "ProgressView",
            "bar_style": "success",
            "description": "",
            "description_tooltip": null,
            "layout": "IPY_MODEL_fb04c2fc860147e4b0b193dc4f1db67c",
            "max": 9912422,
            "min": 0,
            "orientation": "horizontal",
            "style": "IPY_MODEL_4960af8850b6403bb28aa32c3f6a4f42",
            "value": 9912422
          }
        },
        "a54ed910f99c455195e6fbd22ce66b80": {
          "model_module": "@jupyter-widgets/controls",
          "model_module_version": "1.5.0",
          "model_name": "ProgressStyleModel",
          "state": {
            "_model_module": "@jupyter-widgets/controls",
            "_model_module_version": "1.5.0",
            "_model_name": "ProgressStyleModel",
            "_view_count": null,
            "_view_module": "@jupyter-widgets/base",
            "_view_module_version": "1.2.0",
            "_view_name": "StyleView",
            "bar_color": null,
            "description_width": ""
          }
        },
        "a7724ce5cb2442b7ab8b7b35224d6fd5": {
          "model_module": "@jupyter-widgets/controls",
          "model_module_version": "1.5.0",
          "model_name": "FloatProgressModel",
          "state": {
            "_dom_classes": [],
            "_model_module": "@jupyter-widgets/controls",
            "_model_module_version": "1.5.0",
            "_model_name": "FloatProgressModel",
            "_view_count": null,
            "_view_module": "@jupyter-widgets/controls",
            "_view_module_version": "1.5.0",
            "_view_name": "ProgressView",
            "bar_style": "success",
            "description": "",
            "description_tooltip": null,
            "layout": "IPY_MODEL_d30537383b564df2b523f2883be6de0e",
            "max": 28881,
            "min": 0,
            "orientation": "horizontal",
            "style": "IPY_MODEL_c4826cc9181747879b4b15231b2edff7",
            "value": 28881
          }
        },
        "a8ee66d2126a48f390ff8d2738c4874d": {
          "model_module": "@jupyter-widgets/controls",
          "model_module_version": "1.5.0",
          "model_name": "HTMLModel",
          "state": {
            "_dom_classes": [],
            "_model_module": "@jupyter-widgets/controls",
            "_model_module_version": "1.5.0",
            "_model_name": "HTMLModel",
            "_view_count": null,
            "_view_module": "@jupyter-widgets/controls",
            "_view_module_version": "1.5.0",
            "_view_name": "HTMLView",
            "description": "",
            "description_tooltip": null,
            "layout": "IPY_MODEL_8ea4c3f8bf284517873a20ba9273cbbe",
            "placeholder": "​",
            "style": "IPY_MODEL_d7c890f200514287ae3c37719a9aa768",
            "value": " 28881/28881 [00:00&lt;00:00, 1210376.53it/s]"
          }
        },
        "b1fc8ad19ff940788d7f861636b0ad10": {
          "model_module": "@jupyter-widgets/controls",
          "model_module_version": "1.5.0",
          "model_name": "DescriptionStyleModel",
          "state": {
            "_model_module": "@jupyter-widgets/controls",
            "_model_module_version": "1.5.0",
            "_model_name": "DescriptionStyleModel",
            "_view_count": null,
            "_view_module": "@jupyter-widgets/base",
            "_view_module_version": "1.2.0",
            "_view_name": "StyleView",
            "description_width": ""
          }
        },
        "b4dc655b814149af9473cc8da693f69a": {
          "model_module": "@jupyter-widgets/controls",
          "model_module_version": "1.5.0",
          "model_name": "HBoxModel",
          "state": {
            "_dom_classes": [],
            "_model_module": "@jupyter-widgets/controls",
            "_model_module_version": "1.5.0",
            "_model_name": "HBoxModel",
            "_view_count": null,
            "_view_module": "@jupyter-widgets/controls",
            "_view_module_version": "1.5.0",
            "_view_name": "HBoxView",
            "box_style": "",
            "children": [
              "IPY_MODEL_b794ae981514494289257729224136a3",
              "IPY_MODEL_a7724ce5cb2442b7ab8b7b35224d6fd5",
              "IPY_MODEL_a8ee66d2126a48f390ff8d2738c4874d"
            ],
            "layout": "IPY_MODEL_de2852552dc24c92b79fb03577eb7dd2"
          }
        },
        "b794ae981514494289257729224136a3": {
          "model_module": "@jupyter-widgets/controls",
          "model_module_version": "1.5.0",
          "model_name": "HTMLModel",
          "state": {
            "_dom_classes": [],
            "_model_module": "@jupyter-widgets/controls",
            "_model_module_version": "1.5.0",
            "_model_name": "HTMLModel",
            "_view_count": null,
            "_view_module": "@jupyter-widgets/controls",
            "_view_module_version": "1.5.0",
            "_view_name": "HTMLView",
            "description": "",
            "description_tooltip": null,
            "layout": "IPY_MODEL_8096bedc61c0437ea3548a8c03da4c72",
            "placeholder": "​",
            "style": "IPY_MODEL_b1fc8ad19ff940788d7f861636b0ad10",
            "value": "100%"
          }
        },
        "ba51d1cc066a42f4a8d564bda5489a19": {
          "model_module": "@jupyter-widgets/controls",
          "model_module_version": "1.5.0",
          "model_name": "HTMLModel",
          "state": {
            "_dom_classes": [],
            "_model_module": "@jupyter-widgets/controls",
            "_model_module_version": "1.5.0",
            "_model_name": "HTMLModel",
            "_view_count": null,
            "_view_module": "@jupyter-widgets/controls",
            "_view_module_version": "1.5.0",
            "_view_name": "HTMLView",
            "description": "",
            "description_tooltip": null,
            "layout": "IPY_MODEL_6c9d3ff9614144ea9eb16cc479084935",
            "placeholder": "​",
            "style": "IPY_MODEL_c77c095dc1f446b59d22ca8f90ddd7cd",
            "value": " 4542/4542 [00:00&lt;00:00, 166646.51it/s]"
          }
        },
        "baa8f748831b48e6aa5c1cda52a4a476": {
          "model_module": "@jupyter-widgets/controls",
          "model_module_version": "1.5.0",
          "model_name": "HBoxModel",
          "state": {
            "_dom_classes": [],
            "_model_module": "@jupyter-widgets/controls",
            "_model_module_version": "1.5.0",
            "_model_name": "HBoxModel",
            "_view_count": null,
            "_view_module": "@jupyter-widgets/controls",
            "_view_module_version": "1.5.0",
            "_view_name": "HBoxView",
            "box_style": "",
            "children": [
              "IPY_MODEL_e856d59d698448febf7675d358361064",
              "IPY_MODEL_c5c28a0218744b00bbec4ab83f0f726b",
              "IPY_MODEL_ba51d1cc066a42f4a8d564bda5489a19"
            ],
            "layout": "IPY_MODEL_89700ad0d3704bd087ca292252502c7b"
          }
        },
        "c3cff6a0427044ccbe2e1d15fba62a8c": {
          "model_module": "@jupyter-widgets/base",
          "model_module_version": "1.2.0",
          "model_name": "LayoutModel",
          "state": {
            "_model_module": "@jupyter-widgets/base",
            "_model_module_version": "1.2.0",
            "_model_name": "LayoutModel",
            "_view_count": null,
            "_view_module": "@jupyter-widgets/base",
            "_view_module_version": "1.2.0",
            "_view_name": "LayoutView",
            "align_content": null,
            "align_items": null,
            "align_self": null,
            "border": null,
            "bottom": null,
            "display": null,
            "flex": null,
            "flex_flow": null,
            "grid_area": null,
            "grid_auto_columns": null,
            "grid_auto_flow": null,
            "grid_auto_rows": null,
            "grid_column": null,
            "grid_gap": null,
            "grid_row": null,
            "grid_template_areas": null,
            "grid_template_columns": null,
            "grid_template_rows": null,
            "height": null,
            "justify_content": null,
            "justify_items": null,
            "left": null,
            "margin": null,
            "max_height": null,
            "max_width": null,
            "min_height": null,
            "min_width": null,
            "object_fit": null,
            "object_position": null,
            "order": null,
            "overflow": null,
            "overflow_x": null,
            "overflow_y": null,
            "padding": null,
            "right": null,
            "top": null,
            "visibility": null,
            "width": null
          }
        },
        "c4826cc9181747879b4b15231b2edff7": {
          "model_module": "@jupyter-widgets/controls",
          "model_module_version": "1.5.0",
          "model_name": "ProgressStyleModel",
          "state": {
            "_model_module": "@jupyter-widgets/controls",
            "_model_module_version": "1.5.0",
            "_model_name": "ProgressStyleModel",
            "_view_count": null,
            "_view_module": "@jupyter-widgets/base",
            "_view_module_version": "1.2.0",
            "_view_name": "StyleView",
            "bar_color": null,
            "description_width": ""
          }
        },
        "c5c28a0218744b00bbec4ab83f0f726b": {
          "model_module": "@jupyter-widgets/controls",
          "model_module_version": "1.5.0",
          "model_name": "FloatProgressModel",
          "state": {
            "_dom_classes": [],
            "_model_module": "@jupyter-widgets/controls",
            "_model_module_version": "1.5.0",
            "_model_name": "FloatProgressModel",
            "_view_count": null,
            "_view_module": "@jupyter-widgets/controls",
            "_view_module_version": "1.5.0",
            "_view_name": "ProgressView",
            "bar_style": "success",
            "description": "",
            "description_tooltip": null,
            "layout": "IPY_MODEL_ff83cd1a9a464911bcbe80e522d7e868",
            "max": 4542,
            "min": 0,
            "orientation": "horizontal",
            "style": "IPY_MODEL_a54ed910f99c455195e6fbd22ce66b80",
            "value": 4542
          }
        },
        "c77c095dc1f446b59d22ca8f90ddd7cd": {
          "model_module": "@jupyter-widgets/controls",
          "model_module_version": "1.5.0",
          "model_name": "DescriptionStyleModel",
          "state": {
            "_model_module": "@jupyter-widgets/controls",
            "_model_module_version": "1.5.0",
            "_model_name": "DescriptionStyleModel",
            "_view_count": null,
            "_view_module": "@jupyter-widgets/base",
            "_view_module_version": "1.2.0",
            "_view_name": "StyleView",
            "description_width": ""
          }
        },
        "c8dc31db52fa4c2989de1d05a3e59e9e": {
          "model_module": "@jupyter-widgets/controls",
          "model_module_version": "1.5.0",
          "model_name": "DescriptionStyleModel",
          "state": {
            "_model_module": "@jupyter-widgets/controls",
            "_model_module_version": "1.5.0",
            "_model_name": "DescriptionStyleModel",
            "_view_count": null,
            "_view_module": "@jupyter-widgets/base",
            "_view_module_version": "1.2.0",
            "_view_name": "StyleView",
            "description_width": ""
          }
        },
        "d30537383b564df2b523f2883be6de0e": {
          "model_module": "@jupyter-widgets/base",
          "model_module_version": "1.2.0",
          "model_name": "LayoutModel",
          "state": {
            "_model_module": "@jupyter-widgets/base",
            "_model_module_version": "1.2.0",
            "_model_name": "LayoutModel",
            "_view_count": null,
            "_view_module": "@jupyter-widgets/base",
            "_view_module_version": "1.2.0",
            "_view_name": "LayoutView",
            "align_content": null,
            "align_items": null,
            "align_self": null,
            "border": null,
            "bottom": null,
            "display": null,
            "flex": null,
            "flex_flow": null,
            "grid_area": null,
            "grid_auto_columns": null,
            "grid_auto_flow": null,
            "grid_auto_rows": null,
            "grid_column": null,
            "grid_gap": null,
            "grid_row": null,
            "grid_template_areas": null,
            "grid_template_columns": null,
            "grid_template_rows": null,
            "height": null,
            "justify_content": null,
            "justify_items": null,
            "left": null,
            "margin": null,
            "max_height": null,
            "max_width": null,
            "min_height": null,
            "min_width": null,
            "object_fit": null,
            "object_position": null,
            "order": null,
            "overflow": null,
            "overflow_x": null,
            "overflow_y": null,
            "padding": null,
            "right": null,
            "top": null,
            "visibility": null,
            "width": null
          }
        },
        "d7c890f200514287ae3c37719a9aa768": {
          "model_module": "@jupyter-widgets/controls",
          "model_module_version": "1.5.0",
          "model_name": "DescriptionStyleModel",
          "state": {
            "_model_module": "@jupyter-widgets/controls",
            "_model_module_version": "1.5.0",
            "_model_name": "DescriptionStyleModel",
            "_view_count": null,
            "_view_module": "@jupyter-widgets/base",
            "_view_module_version": "1.2.0",
            "_view_name": "StyleView",
            "description_width": ""
          }
        },
        "de2852552dc24c92b79fb03577eb7dd2": {
          "model_module": "@jupyter-widgets/base",
          "model_module_version": "1.2.0",
          "model_name": "LayoutModel",
          "state": {
            "_model_module": "@jupyter-widgets/base",
            "_model_module_version": "1.2.0",
            "_model_name": "LayoutModel",
            "_view_count": null,
            "_view_module": "@jupyter-widgets/base",
            "_view_module_version": "1.2.0",
            "_view_name": "LayoutView",
            "align_content": null,
            "align_items": null,
            "align_self": null,
            "border": null,
            "bottom": null,
            "display": null,
            "flex": null,
            "flex_flow": null,
            "grid_area": null,
            "grid_auto_columns": null,
            "grid_auto_flow": null,
            "grid_auto_rows": null,
            "grid_column": null,
            "grid_gap": null,
            "grid_row": null,
            "grid_template_areas": null,
            "grid_template_columns": null,
            "grid_template_rows": null,
            "height": null,
            "justify_content": null,
            "justify_items": null,
            "left": null,
            "margin": null,
            "max_height": null,
            "max_width": null,
            "min_height": null,
            "min_width": null,
            "object_fit": null,
            "object_position": null,
            "order": null,
            "overflow": null,
            "overflow_x": null,
            "overflow_y": null,
            "padding": null,
            "right": null,
            "top": null,
            "visibility": null,
            "width": null
          }
        },
        "e70d726f28b24e819e47afd869367364": {
          "model_module": "@jupyter-widgets/controls",
          "model_module_version": "1.5.0",
          "model_name": "HTMLModel",
          "state": {
            "_dom_classes": [],
            "_model_module": "@jupyter-widgets/controls",
            "_model_module_version": "1.5.0",
            "_model_name": "HTMLModel",
            "_view_count": null,
            "_view_module": "@jupyter-widgets/controls",
            "_view_module_version": "1.5.0",
            "_view_name": "HTMLView",
            "description": "",
            "description_tooltip": null,
            "layout": "IPY_MODEL_e9ef664c665b46b28eea9f08e09a6a46",
            "placeholder": "​",
            "style": "IPY_MODEL_489b676aa6c04d9b9d73e420acea1248",
            "value": " 9912422/9912422 [00:00&lt;00:00, 84831985.94it/s]"
          }
        },
        "e856d59d698448febf7675d358361064": {
          "model_module": "@jupyter-widgets/controls",
          "model_module_version": "1.5.0",
          "model_name": "HTMLModel",
          "state": {
            "_dom_classes": [],
            "_model_module": "@jupyter-widgets/controls",
            "_model_module_version": "1.5.0",
            "_model_name": "HTMLModel",
            "_view_count": null,
            "_view_module": "@jupyter-widgets/controls",
            "_view_module_version": "1.5.0",
            "_view_name": "HTMLView",
            "description": "",
            "description_tooltip": null,
            "layout": "IPY_MODEL_934886c1fcd14d918ac959cd85be64f6",
            "placeholder": "​",
            "style": "IPY_MODEL_11abc884c1f841afb0243ffc2c3162db",
            "value": "100%"
          }
        },
        "e9ef664c665b46b28eea9f08e09a6a46": {
          "model_module": "@jupyter-widgets/base",
          "model_module_version": "1.2.0",
          "model_name": "LayoutModel",
          "state": {
            "_model_module": "@jupyter-widgets/base",
            "_model_module_version": "1.2.0",
            "_model_name": "LayoutModel",
            "_view_count": null,
            "_view_module": "@jupyter-widgets/base",
            "_view_module_version": "1.2.0",
            "_view_name": "LayoutView",
            "align_content": null,
            "align_items": null,
            "align_self": null,
            "border": null,
            "bottom": null,
            "display": null,
            "flex": null,
            "flex_flow": null,
            "grid_area": null,
            "grid_auto_columns": null,
            "grid_auto_flow": null,
            "grid_auto_rows": null,
            "grid_column": null,
            "grid_gap": null,
            "grid_row": null,
            "grid_template_areas": null,
            "grid_template_columns": null,
            "grid_template_rows": null,
            "height": null,
            "justify_content": null,
            "justify_items": null,
            "left": null,
            "margin": null,
            "max_height": null,
            "max_width": null,
            "min_height": null,
            "min_width": null,
            "object_fit": null,
            "object_position": null,
            "order": null,
            "overflow": null,
            "overflow_x": null,
            "overflow_y": null,
            "padding": null,
            "right": null,
            "top": null,
            "visibility": null,
            "width": null
          }
        },
        "edfca8f49fd34618967e2aa193d717c0": {
          "model_module": "@jupyter-widgets/base",
          "model_module_version": "1.2.0",
          "model_name": "LayoutModel",
          "state": {
            "_model_module": "@jupyter-widgets/base",
            "_model_module_version": "1.2.0",
            "_model_name": "LayoutModel",
            "_view_count": null,
            "_view_module": "@jupyter-widgets/base",
            "_view_module_version": "1.2.0",
            "_view_name": "LayoutView",
            "align_content": null,
            "align_items": null,
            "align_self": null,
            "border": null,
            "bottom": null,
            "display": null,
            "flex": null,
            "flex_flow": null,
            "grid_area": null,
            "grid_auto_columns": null,
            "grid_auto_flow": null,
            "grid_auto_rows": null,
            "grid_column": null,
            "grid_gap": null,
            "grid_row": null,
            "grid_template_areas": null,
            "grid_template_columns": null,
            "grid_template_rows": null,
            "height": null,
            "justify_content": null,
            "justify_items": null,
            "left": null,
            "margin": null,
            "max_height": null,
            "max_width": null,
            "min_height": null,
            "min_width": null,
            "object_fit": null,
            "object_position": null,
            "order": null,
            "overflow": null,
            "overflow_x": null,
            "overflow_y": null,
            "padding": null,
            "right": null,
            "top": null,
            "visibility": null,
            "width": null
          }
        },
        "fb04c2fc860147e4b0b193dc4f1db67c": {
          "model_module": "@jupyter-widgets/base",
          "model_module_version": "1.2.0",
          "model_name": "LayoutModel",
          "state": {
            "_model_module": "@jupyter-widgets/base",
            "_model_module_version": "1.2.0",
            "_model_name": "LayoutModel",
            "_view_count": null,
            "_view_module": "@jupyter-widgets/base",
            "_view_module_version": "1.2.0",
            "_view_name": "LayoutView",
            "align_content": null,
            "align_items": null,
            "align_self": null,
            "border": null,
            "bottom": null,
            "display": null,
            "flex": null,
            "flex_flow": null,
            "grid_area": null,
            "grid_auto_columns": null,
            "grid_auto_flow": null,
            "grid_auto_rows": null,
            "grid_column": null,
            "grid_gap": null,
            "grid_row": null,
            "grid_template_areas": null,
            "grid_template_columns": null,
            "grid_template_rows": null,
            "height": null,
            "justify_content": null,
            "justify_items": null,
            "left": null,
            "margin": null,
            "max_height": null,
            "max_width": null,
            "min_height": null,
            "min_width": null,
            "object_fit": null,
            "object_position": null,
            "order": null,
            "overflow": null,
            "overflow_x": null,
            "overflow_y": null,
            "padding": null,
            "right": null,
            "top": null,
            "visibility": null,
            "width": null
          }
        },
        "fc739f36855143fcbdb6c27085b6b69b": {
          "model_module": "@jupyter-widgets/base",
          "model_module_version": "1.2.0",
          "model_name": "LayoutModel",
          "state": {
            "_model_module": "@jupyter-widgets/base",
            "_model_module_version": "1.2.0",
            "_model_name": "LayoutModel",
            "_view_count": null,
            "_view_module": "@jupyter-widgets/base",
            "_view_module_version": "1.2.0",
            "_view_name": "LayoutView",
            "align_content": null,
            "align_items": null,
            "align_self": null,
            "border": null,
            "bottom": null,
            "display": null,
            "flex": null,
            "flex_flow": null,
            "grid_area": null,
            "grid_auto_columns": null,
            "grid_auto_flow": null,
            "grid_auto_rows": null,
            "grid_column": null,
            "grid_gap": null,
            "grid_row": null,
            "grid_template_areas": null,
            "grid_template_columns": null,
            "grid_template_rows": null,
            "height": null,
            "justify_content": null,
            "justify_items": null,
            "left": null,
            "margin": null,
            "max_height": null,
            "max_width": null,
            "min_height": null,
            "min_width": null,
            "object_fit": null,
            "object_position": null,
            "order": null,
            "overflow": null,
            "overflow_x": null,
            "overflow_y": null,
            "padding": null,
            "right": null,
            "top": null,
            "visibility": null,
            "width": null
          }
        },
        "ff83cd1a9a464911bcbe80e522d7e868": {
          "model_module": "@jupyter-widgets/base",
          "model_module_version": "1.2.0",
          "model_name": "LayoutModel",
          "state": {
            "_model_module": "@jupyter-widgets/base",
            "_model_module_version": "1.2.0",
            "_model_name": "LayoutModel",
            "_view_count": null,
            "_view_module": "@jupyter-widgets/base",
            "_view_module_version": "1.2.0",
            "_view_name": "LayoutView",
            "align_content": null,
            "align_items": null,
            "align_self": null,
            "border": null,
            "bottom": null,
            "display": null,
            "flex": null,
            "flex_flow": null,
            "grid_area": null,
            "grid_auto_columns": null,
            "grid_auto_flow": null,
            "grid_auto_rows": null,
            "grid_column": null,
            "grid_gap": null,
            "grid_row": null,
            "grid_template_areas": null,
            "grid_template_columns": null,
            "grid_template_rows": null,
            "height": null,
            "justify_content": null,
            "justify_items": null,
            "left": null,
            "margin": null,
            "max_height": null,
            "max_width": null,
            "min_height": null,
            "min_width": null,
            "object_fit": null,
            "object_position": null,
            "order": null,
            "overflow": null,
            "overflow_x": null,
            "overflow_y": null,
            "padding": null,
            "right": null,
            "top": null,
            "visibility": null,
            "width": null
          }
        }
      }
    }
  },
  "nbformat": 4,
  "nbformat_minor": 0
}